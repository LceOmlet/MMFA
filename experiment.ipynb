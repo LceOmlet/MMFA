{
 "cells": [
  {
   "cell_type": "code",
   "execution_count": 1,
   "metadata": {},
   "outputs": [
    {
     "name": "stderr",
     "output_type": "stream",
     "text": [
      "/home/liangchen/miniconda3/envs/UniTS/lib/python3.8/site-packages/tqdm/auto.py:21: TqdmWarning: IProgress not found. Please update jupyter and ipywidgets. See https://ipywidgets.readthedocs.io/en/stable/user_install.html\n",
      "  from .autonotebook import tqdm as notebook_tqdm\n",
      "/home/liangchen/miniconda3/envs/UniTS/lib/python3.8/site-packages/tslearn/bases/bases.py:15: UserWarning: h5py not installed, hdf5 features will not be supported.\n",
      "Install h5py to use hdf5 features: http://docs.h5py.org/\n",
      "  warn(h5py_msg)\n"
     ]
    }
   ],
   "source": [
    "import torch\n",
    "from ts_url.training_methods import Trainer\n",
    "import time\n",
    "import os "
   ]
  },
  {
   "cell_type": "markdown",
   "metadata": {},
   "source": [
    "Try csl on LSST dataset with SVM as the test module."
   ]
  },
  {
   "cell_type": "code",
   "execution_count": 2,
   "metadata": {},
   "outputs": [],
   "source": [
    "\n",
    "experiment = \"exp1\"\n",
    "\n",
    "hp_path = \"configs/csl_optim.json\"\n",
    "p_path = \"configs/csl.json\"\n",
    "optim_config = \"configs/csl_optim.json\"\n",
    "task_name = \"pretraining\"\n",
    "model_name = \"csl\"\n",
    "\n",
    "device = torch.device('cuda')\n",
    "\n",
    "\n",
    "def get_config(filepath=\"\", train_ratio=1, test_ratio=1, dsid=\"LSST\"):\n",
    "    data_configs = [{\n",
    "        \"filepath\": filepath,\n",
    "        \"train_ratio\": train_ratio,\n",
    "        \"test_ratio\": test_ratio,\n",
    "        \"dsid\": dsid\n",
    "    }]\n",
    "    return data_configs\n",
    "\n",
    "data_configs = get_config()\n",
    "\n",
    "data_names = [d['dsid'] for d in data_configs]\n",
    "task_summary = \"_\".join(data_names) + \"_\" + model_name\n",
    "start_time = time.strftime(\"%m_%d_%H_%M_%S\", time.localtime()) \n",
    "save_path = os.path.join(experiment, task_summary, start_time)\n",
    "\n",
    "os.makedirs(save_path, exist_ok=True)\n",
    "\n"
   ]
  },
  {
   "cell_type": "markdown",
   "metadata": {},
   "source": [
    "Try ts_tcc on LSST dataset with SVM as test module."
   ]
  },
  {
   "cell_type": "code",
   "execution_count": null,
   "metadata": {},
   "outputs": [],
   "source": [
    "experiment = \"exp1\"\n",
    "\n",
    "# hp_path = \"configs/ts_tcc_optim.json\"\n",
    "p_path = \"configs/ts_tcc.json\"\n",
    "optim_config = \"configs/ts_tcc_optim.json\"\n",
    "task_name = \"pretraining\"\n",
    "model_name = \"ts_tcc\"\n",
    "\n",
    "device = torch.device('cuda')\n",
    "\n",
    "data_names = [d['dsid'] for d in data_configs]\n",
    "task_summary = \"_\".join(data_names) + \"_\" + model_name\n",
    "start_time = time.strftime(\"%m_%d_%H_%M_%S\", time.localtime()) \n",
    "save_path = os.path.join(experiment, task_summary, start_time)\n",
    "\n",
    "os.makedirs(save_path, exist_ok=True)"
   ]
  },
  {
   "cell_type": "markdown",
   "metadata": {},
   "source": [
    "Try t_loss on LSST dataset with SVM as test module."
   ]
  },
  {
   "cell_type": "code",
   "execution_count": null,
   "metadata": {},
   "outputs": [],
   "source": [
    "experiment = \"exp1\"\n",
    "\n",
    "# hp_path = \"configs/ts_tcc_optim.json\"\n",
    "p_path = \"configs/t_loss.json\"\n",
    "optim_config = \"configs/t_loss_optim.json\"\n",
    "task_name = \"pretraining\"\n",
    "model_name = \"t_loss\"\n",
    "\n",
    "device = torch.device('cuda')\n",
    "\n",
    "data_names = [d['dsid'] for d in data_configs]\n",
    "task_summary = \"_\".join(data_names) + \"_\" + model_name\n",
    "start_time = time.strftime(\"%m_%d_%H_%M_%S\", time.localtime()) \n",
    "save_path = os.path.join(experiment, task_summary, start_time)\n",
    "\n",
    "os.makedirs(save_path, exist_ok=True)"
   ]
  },
  {
   "cell_type": "code",
   "execution_count": 3,
   "metadata": {},
   "outputs": [
    {
     "name": "stderr",
     "output_type": "stream",
     "text": [
      "/home/liangchen/liangchen/UniTS/ts_url/process_data.py:503: UserWarning: Creating a tensor from a list of numpy.ndarrays is extremely slow. Please consider converting the list to a single numpy.ndarray with numpy.array() before converting to a tensor. (Triggered internally at /opt/conda/conda-bld/pytorch_1670525552411/work/torch/csrc/utils/tensor_new.cpp:230.)\n",
      "  self.data = torch.tensor(data)  # this is a subclass of the BaseData class in data.py\n",
      "2024-02-12 10:59:26,234 | INFO : train_ds length: 2459, valid_ds length: 2466\n",
      "2024-02-12 10:59:26,242 | INFO : {'output_dims': 320, 'feat_dim': 6, 'max_len': 36, 'device': 'cpu'}\n",
      "2024-02-12 10:59:26,243 | INFO : CSL(\n",
      "  (shapelets_euclidean): ShapeletsDistBlocks(\n",
      "    (blocks): ModuleList(\n",
      "      (0): MinEuclideanDistBlock()\n",
      "      (1): MinEuclideanDistBlock()\n",
      "      (2): MinEuclideanDistBlock()\n",
      "      (3): MinEuclideanDistBlock()\n",
      "      (4): MinEuclideanDistBlock()\n",
      "      (5): MinEuclideanDistBlock()\n",
      "      (6): MinEuclideanDistBlock()\n",
      "      (7): MinEuclideanDistBlock()\n",
      "    )\n",
      "  )\n",
      "  (shapelets_cosine): ShapeletsDistBlocks(\n",
      "    (blocks): ModuleList(\n",
      "      (0): MaxCosineSimilarityBlock(\n",
      "        (relu): ReLU()\n",
      "      )\n",
      "      (1): MaxCosineSimilarityBlock(\n",
      "        (relu): ReLU()\n",
      "      )\n",
      "      (2): MaxCosineSimilarityBlock(\n",
      "        (relu): ReLU()\n",
      "      )\n",
      "      (3): MaxCosineSimilarityBlock(\n",
      "        (relu): ReLU()\n",
      "      )\n",
      "      (4): MaxCosineSimilarityBlock(\n",
      "        (relu): ReLU()\n",
      "      )\n",
      "      (5): MaxCosineSimilarityBlock(\n",
      "        (relu): ReLU()\n",
      "      )\n",
      "      (6): MaxCosineSimilarityBlock(\n",
      "        (relu): ReLU()\n",
      "      )\n",
      "      (7): MaxCosineSimilarityBlock(\n",
      "        (relu): ReLU()\n",
      "      )\n",
      "    )\n",
      "  )\n",
      "  (shapelets_cross_correlation): ShapeletsDistBlocks(\n",
      "    (blocks): ModuleList(\n",
      "      (0): MaxCrossCorrelationBlock(\n",
      "        (shapelets): Conv1d(6, 14, kernel_size=(3,), stride=(1,))\n",
      "      )\n",
      "      (1): MaxCrossCorrelationBlock(\n",
      "        (shapelets): Conv1d(6, 14, kernel_size=(6,), stride=(1,))\n",
      "      )\n",
      "      (2): MaxCrossCorrelationBlock(\n",
      "        (shapelets): Conv1d(6, 14, kernel_size=(10,), stride=(1,))\n",
      "      )\n",
      "      (3): MaxCrossCorrelationBlock(\n",
      "        (shapelets): Conv1d(6, 14, kernel_size=(13,), stride=(1,))\n",
      "      )\n",
      "      (4): MaxCrossCorrelationBlock(\n",
      "        (shapelets): Conv1d(6, 14, kernel_size=(17,), stride=(1,))\n",
      "      )\n",
      "      (5): MaxCrossCorrelationBlock(\n",
      "        (shapelets): Conv1d(6, 14, kernel_size=(20,), stride=(1,))\n",
      "      )\n",
      "      (6): MaxCrossCorrelationBlock(\n",
      "        (shapelets): Conv1d(6, 14, kernel_size=(24,), stride=(1,))\n",
      "      )\n",
      "      (7): MaxCrossCorrelationBlock(\n",
      "        (shapelets): Conv1d(6, 14, kernel_size=(28,), stride=(1,))\n",
      "      )\n",
      "    )\n",
      "  )\n",
      "  (linear): Linear(in_features=320, out_features=2, bias=True)\n",
      "  (projection): Sequential(\n",
      "    (0): BatchNorm1d(320, eps=1e-05, momentum=0.1, affine=True, track_running_stats=True)\n",
      "  )\n",
      "  (bn1): BatchNorm1d(104, eps=1e-05, momentum=0.1, affine=True, track_running_stats=True)\n",
      "  (bn2): BatchNorm1d(104, eps=1e-05, momentum=0.1, affine=True, track_running_stats=True)\n",
      "  (bn3): BatchNorm1d(112, eps=1e-05, momentum=0.1, affine=True, track_running_stats=True)\n",
      "  (projection2): Sequential(\n",
      "    (0): Linear(in_features=320, out_features=256, bias=True)\n",
      "    (1): ReLU()\n",
      "    (2): Linear(in_features=256, out_features=128, bias=True)\n",
      "  )\n",
      ")\n",
      "/home/liangchen/liangchen/UniTS/ts_url/process_data.py:530: UserWarning: To copy construct from a tensor, it is recommended to use sourceTensor.clone().detach() or sourceTensor.clone().detach().requires_grad_(True), rather than torch.tensor(sourceTensor).\n",
      "  X = torch.tensor(X).transpose(0, 1)\n"
     ]
    },
    {
     "name": "stdout",
     "output_type": "stream",
     "text": [
      "\u001b[KTraining Epoch 0  97.4% | batch:       300 of       308\t|\tloss: 7.359742"
     ]
    },
    {
     "name": "stderr",
     "output_type": "stream",
     "text": [
      "2024-02-12 11:01:09,471 | INFO : Evaluating on validation set ...\n"
     ]
    },
    {
     "name": "stdout",
     "output_type": "stream",
     "text": [
      "\u001b[KEvaluating Epoch 0   1.2% | batch:        30 of      2466\t|\tloss: inf"
     ]
    },
    {
     "name": "stderr",
     "output_type": "stream",
     "text": [
      "/home/liangchen/liangchen/UniTS/ts_url/process_data.py:530: UserWarning: To copy construct from a tensor, it is recommended to use sourceTensor.clone().detach() or sourceTensor.clone().detach().requires_grad_(True), rather than torch.tensor(sourceTensor).\n",
      "  X = torch.tensor(X).transpose(0, 1)\n"
     ]
    },
    {
     "name": "stdout",
     "output_type": "stream",
     "text": [
      "\u001b[KEvaluating Epoch 0  99.8% | batch:      2460 of      2466\t|\tloss: inf"
     ]
    },
    {
     "name": "stderr",
     "output_type": "stream",
     "text": [
      "/home/liangchen/miniconda3/envs/UniTS/lib/python3.8/site-packages/sklearn/metrics/_classification.py:1469: UndefinedMetricWarning: Recall and F-score are ill-defined and being set to 0.0 in labels with no true samples. Use `zero_division` parameter to control this behavior.\n",
      "  _warn_prf(average, modifier, msg_start, len(result))\n",
      "/home/liangchen/miniconda3/envs/UniTS/lib/python3.8/site-packages/sklearn/metrics/_classification.py:1469: UndefinedMetricWarning: Recall and F-score are ill-defined and being set to 0.0 in labels with no true samples. Use `zero_division` parameter to control this behavior.\n",
      "  _warn_prf(average, modifier, msg_start, len(result))\n",
      "/home/liangchen/miniconda3/envs/UniTS/lib/python3.8/site-packages/sklearn/metrics/_classification.py:1469: UndefinedMetricWarning: Recall and F-score are ill-defined and being set to 0.0 in labels with no true samples. Use `zero_division` parameter to control this behavior.\n",
      "  _warn_prf(average, modifier, msg_start, len(result))\n",
      "2024-02-12 11:02:24,974 | INFO : Validation runtime: 0.0 hours, 1.0 minutes, 15.501035690307617 seconds\n",
      "\n",
      "2024-02-12 11:02:24,975 | INFO : Avg val. time: 0.0 hours, 1.0 minutes, 15.501035690307617 seconds\n",
      "2024-02-12 11:02:24,976 | INFO : Avg batch val. time: 0.03061680279412312 seconds\n",
      "2024-02-12 11:02:24,978 | INFO : Avg sample val. time: 0.03061680279412312 seconds\n",
      "2024-02-12 11:02:24,979 | INFO : Epoch 0 Validation Summary: epoch: 0.000000 | loss: 0.000000 | accuracy: 0.607867 | \n",
      "/home/liangchen/liangchen/UniTS/ts_url/process_data.py:530: UserWarning: To copy construct from a tensor, it is recommended to use sourceTensor.clone().detach() or sourceTensor.clone().detach().requires_grad_(True), rather than torch.tensor(sourceTensor).\n",
      "  X = torch.tensor(X).transpose(0, 1)\n"
     ]
    },
    {
     "name": "stdout",
     "output_type": "stream",
     "text": [
      "              precision    recall  f1-score   support\n",
      "\n",
      "           0       0.03      0.50      0.05         2\n",
      "           1       0.40      0.56      0.46        87\n",
      "           2       0.87      0.76      0.81       311\n",
      "           3       0.41      0.40      0.41       389\n",
      "           4       0.02      0.10      0.03        10\n",
      "           5       0.00      0.00      0.00         0\n",
      "           6       0.14      0.27      0.18        79\n",
      "           7       0.00      0.00      0.00         0\n",
      "           8       0.84      0.70      0.76       377\n",
      "           9       0.07      0.56      0.13         9\n",
      "          10       0.89      0.96      0.92       113\n",
      "          11       0.80      0.61      0.69      1029\n",
      "          12       0.38      0.59      0.46        49\n",
      "          13       0.13      0.64      0.22        11\n",
      "\n",
      "    accuracy                           0.61      2466\n",
      "   macro avg       0.36      0.47      0.37      2466\n",
      "weighted avg       0.71      0.61      0.65      2466\n",
      "\n",
      "{'output_dims': 320, 'feat_dim': 6, 'max_len': 36, 'device': 'cpu'}\n",
      "\u001b[KTraining Epoch 1  97.4% | batch:       300 of       308\t|\tloss: 3.471783"
     ]
    },
    {
     "name": "stderr",
     "output_type": "stream",
     "text": [
      "2024-02-12 11:03:44,491 | INFO : Evaluating on validation set ...\n"
     ]
    },
    {
     "name": "stdout",
     "output_type": "stream",
     "text": [
      "\u001b[KEvaluating Epoch 1   1.2% | batch:        30 of      2466\t|\tloss: inf"
     ]
    },
    {
     "name": "stderr",
     "output_type": "stream",
     "text": [
      "/home/liangchen/liangchen/UniTS/ts_url/process_data.py:530: UserWarning: To copy construct from a tensor, it is recommended to use sourceTensor.clone().detach() or sourceTensor.clone().detach().requires_grad_(True), rather than torch.tensor(sourceTensor).\n",
      "  X = torch.tensor(X).transpose(0, 1)\n"
     ]
    },
    {
     "name": "stdout",
     "output_type": "stream",
     "text": [
      "\u001b[KEvaluating Epoch 1  99.8% | batch:      2460 of      2466\t|\tloss: inf"
     ]
    },
    {
     "name": "stderr",
     "output_type": "stream",
     "text": [
      "/home/liangchen/miniconda3/envs/UniTS/lib/python3.8/site-packages/sklearn/metrics/_classification.py:1469: UndefinedMetricWarning: Recall and F-score are ill-defined and being set to 0.0 in labels with no true samples. Use `zero_division` parameter to control this behavior.\n",
      "  _warn_prf(average, modifier, msg_start, len(result))\n",
      "/home/liangchen/miniconda3/envs/UniTS/lib/python3.8/site-packages/sklearn/metrics/_classification.py:1469: UndefinedMetricWarning: Recall and F-score are ill-defined and being set to 0.0 in labels with no true samples. Use `zero_division` parameter to control this behavior.\n",
      "  _warn_prf(average, modifier, msg_start, len(result))\n",
      "/home/liangchen/miniconda3/envs/UniTS/lib/python3.8/site-packages/sklearn/metrics/_classification.py:1469: UndefinedMetricWarning: Recall and F-score are ill-defined and being set to 0.0 in labels with no true samples. Use `zero_division` parameter to control this behavior.\n",
      "  _warn_prf(average, modifier, msg_start, len(result))\n",
      "2024-02-12 11:05:08,192 | INFO : Validation runtime: 0.0 hours, 1.0 minutes, 23.699044704437256 seconds\n",
      "\n",
      "2024-02-12 11:05:08,193 | INFO : Avg val. time: 0.0 hours, 1.0 minutes, 19.600040197372437 seconds\n",
      "2024-02-12 11:05:08,194 | INFO : Avg batch val. time: 0.03227901062342759 seconds\n",
      "2024-02-12 11:05:08,195 | INFO : Avg sample val. time: 0.03227901062342759 seconds\n",
      "2024-02-12 11:05:08,196 | INFO : Epoch 1 Validation Summary: epoch: 1.000000 | loss: 0.000000 | accuracy: 0.604623 | \n",
      "/home/liangchen/liangchen/UniTS/ts_url/process_data.py:530: UserWarning: To copy construct from a tensor, it is recommended to use sourceTensor.clone().detach() or sourceTensor.clone().detach().requires_grad_(True), rather than torch.tensor(sourceTensor).\n",
      "  X = torch.tensor(X).transpose(0, 1)\n"
     ]
    },
    {
     "name": "stdout",
     "output_type": "stream",
     "text": [
      "              precision    recall  f1-score   support\n",
      "\n",
      "           0       0.06      0.50      0.10         4\n",
      "           1       0.40      0.59      0.48        85\n",
      "           2       0.86      0.76      0.81       307\n",
      "           3       0.40      0.40      0.40       386\n",
      "           4       0.02      0.08      0.03        12\n",
      "           5       0.00      0.00      0.00         0\n",
      "           6       0.13      0.25      0.17        80\n",
      "           7       0.00      0.00      0.00         0\n",
      "           8       0.84      0.69      0.76       382\n",
      "           9       0.04      0.38      0.08         8\n",
      "          10       0.88      0.96      0.92       112\n",
      "          11       0.80      0.60      0.69      1028\n",
      "          12       0.39      0.60      0.47        50\n",
      "          13       0.15      0.67      0.25        12\n",
      "\n",
      "    accuracy                           0.60      2466\n",
      "   macro avg       0.36      0.46      0.37      2466\n",
      "weighted avg       0.70      0.60      0.64      2466\n",
      "\n",
      "\u001b[KTraining Epoch 2  97.4% | batch:       300 of       308\t|\tloss: 2.163616"
     ]
    },
    {
     "name": "stderr",
     "output_type": "stream",
     "text": [
      "2024-02-12 11:06:47,000 | INFO : Evaluating on validation set ...\n"
     ]
    },
    {
     "name": "stdout",
     "output_type": "stream",
     "text": [
      "\u001b[KEvaluating Epoch 2   1.6% | batch:        40 of      2466\t|\tloss: inf"
     ]
    },
    {
     "name": "stderr",
     "output_type": "stream",
     "text": [
      "/home/liangchen/liangchen/UniTS/ts_url/process_data.py:530: UserWarning: To copy construct from a tensor, it is recommended to use sourceTensor.clone().detach() or sourceTensor.clone().detach().requires_grad_(True), rather than torch.tensor(sourceTensor).\n",
      "  X = torch.tensor(X).transpose(0, 1)\n"
     ]
    },
    {
     "name": "stdout",
     "output_type": "stream",
     "text": [
      "\u001b[KEvaluating Epoch 2  99.8% | batch:      2460 of      2466\t|\tloss: inf"
     ]
    },
    {
     "name": "stderr",
     "output_type": "stream",
     "text": [
      "/home/liangchen/miniconda3/envs/UniTS/lib/python3.8/site-packages/sklearn/metrics/_classification.py:1469: UndefinedMetricWarning: Recall and F-score are ill-defined and being set to 0.0 in labels with no true samples. Use `zero_division` parameter to control this behavior.\n",
      "  _warn_prf(average, modifier, msg_start, len(result))\n",
      "/home/liangchen/miniconda3/envs/UniTS/lib/python3.8/site-packages/sklearn/metrics/_classification.py:1469: UndefinedMetricWarning: Recall and F-score are ill-defined and being set to 0.0 in labels with no true samples. Use `zero_division` parameter to control this behavior.\n",
      "  _warn_prf(average, modifier, msg_start, len(result))\n",
      "/home/liangchen/miniconda3/envs/UniTS/lib/python3.8/site-packages/sklearn/metrics/_classification.py:1469: UndefinedMetricWarning: Recall and F-score are ill-defined and being set to 0.0 in labels with no true samples. Use `zero_division` parameter to control this behavior.\n",
      "  _warn_prf(average, modifier, msg_start, len(result))\n",
      "2024-02-12 11:08:09,341 | INFO : Validation runtime: 0.0 hours, 1.0 minutes, 22.338667631149292 seconds\n",
      "\n",
      "2024-02-12 11:08:09,342 | INFO : Avg val. time: 0.0 hours, 1.0 minutes, 20.512916008631393 seconds\n",
      "2024-02-12 11:08:09,344 | INFO : Avg batch val. time: 0.03264919546173212 seconds\n",
      "2024-02-12 11:08:09,344 | INFO : Avg sample val. time: 0.03264919546173212 seconds\n",
      "2024-02-12 11:08:09,345 | INFO : Epoch 2 Validation Summary: epoch: 2.000000 | loss: 0.000000 | accuracy: 0.607461 | \n",
      "/home/liangchen/liangchen/UniTS/ts_url/process_data.py:530: UserWarning: To copy construct from a tensor, it is recommended to use sourceTensor.clone().detach() or sourceTensor.clone().detach().requires_grad_(True), rather than torch.tensor(sourceTensor).\n",
      "  X = torch.tensor(X).transpose(0, 1)\n"
     ]
    },
    {
     "name": "stdout",
     "output_type": "stream",
     "text": [
      "              precision    recall  f1-score   support\n",
      "\n",
      "           0       0.06      0.40      0.10         5\n",
      "           1       0.40      0.62      0.49        81\n",
      "           2       0.87      0.76      0.81       308\n",
      "           3       0.42      0.41      0.41       391\n",
      "           4       0.03      0.14      0.05        14\n",
      "           5       0.00      0.00      0.00         0\n",
      "           6       0.12      0.24      0.16        79\n",
      "           7       0.00      0.00      0.00         0\n",
      "           8       0.84      0.70      0.76       376\n",
      "           9       0.06      0.44      0.10         9\n",
      "          10       0.88      0.95      0.91       113\n",
      "          11       0.80      0.60      0.68      1032\n",
      "          12       0.40      0.63      0.49        49\n",
      "          13       0.13      0.78      0.23         9\n",
      "\n",
      "    accuracy                           0.61      2466\n",
      "   macro avg       0.36      0.48      0.37      2466\n",
      "weighted avg       0.70      0.61      0.64      2466\n",
      "\n",
      "\u001b[KTraining Epoch 3  97.4% | batch:       300 of       308\t|\tloss: 1.802486"
     ]
    },
    {
     "name": "stderr",
     "output_type": "stream",
     "text": [
      "2024-02-12 11:09:48,910 | INFO : Evaluating on validation set ...\n"
     ]
    },
    {
     "name": "stdout",
     "output_type": "stream",
     "text": [
      "\u001b[KEvaluating Epoch 3   1.2% | batch:        30 of      2466\t|\tloss: inf"
     ]
    },
    {
     "name": "stderr",
     "output_type": "stream",
     "text": [
      "/home/liangchen/liangchen/UniTS/ts_url/process_data.py:530: UserWarning: To copy construct from a tensor, it is recommended to use sourceTensor.clone().detach() or sourceTensor.clone().detach().requires_grad_(True), rather than torch.tensor(sourceTensor).\n",
      "  X = torch.tensor(X).transpose(0, 1)\n"
     ]
    },
    {
     "name": "stdout",
     "output_type": "stream",
     "text": [
      "\u001b[KEvaluating Epoch 3  99.8% | batch:      2460 of      2466\t|\tloss: inf"
     ]
    },
    {
     "name": "stderr",
     "output_type": "stream",
     "text": [
      "/home/liangchen/miniconda3/envs/UniTS/lib/python3.8/site-packages/sklearn/metrics/_classification.py:1469: UndefinedMetricWarning: Recall and F-score are ill-defined and being set to 0.0 in labels with no true samples. Use `zero_division` parameter to control this behavior.\n",
      "  _warn_prf(average, modifier, msg_start, len(result))\n",
      "/home/liangchen/miniconda3/envs/UniTS/lib/python3.8/site-packages/sklearn/metrics/_classification.py:1469: UndefinedMetricWarning: Recall and F-score are ill-defined and being set to 0.0 in labels with no true samples. Use `zero_division` parameter to control this behavior.\n",
      "  _warn_prf(average, modifier, msg_start, len(result))\n",
      "/home/liangchen/miniconda3/envs/UniTS/lib/python3.8/site-packages/sklearn/metrics/_classification.py:1469: UndefinedMetricWarning: Recall and F-score are ill-defined and being set to 0.0 in labels with no true samples. Use `zero_division` parameter to control this behavior.\n",
      "  _warn_prf(average, modifier, msg_start, len(result))\n",
      "2024-02-12 11:11:11,672 | INFO : Validation runtime: 0.0 hours, 1.0 minutes, 22.759642601013184 seconds\n",
      "\n",
      "2024-02-12 11:11:11,673 | INFO : Avg val. time: 0.0 hours, 1.0 minutes, 21.074597656726837 seconds\n",
      "2024-02-12 11:11:11,674 | INFO : Avg batch val. time: 0.03287696579753724 seconds\n",
      "2024-02-12 11:11:11,676 | INFO : Avg sample val. time: 0.03287696579753724 seconds\n",
      "2024-02-12 11:11:11,677 | INFO : Epoch 3 Validation Summary: epoch: 3.000000 | loss: 0.000000 | accuracy: 0.607867 | \n",
      "/home/liangchen/liangchen/UniTS/ts_url/process_data.py:530: UserWarning: To copy construct from a tensor, it is recommended to use sourceTensor.clone().detach() or sourceTensor.clone().detach().requires_grad_(True), rather than torch.tensor(sourceTensor).\n",
      "  X = torch.tensor(X).transpose(0, 1)\n"
     ]
    },
    {
     "name": "stdout",
     "output_type": "stream",
     "text": [
      "              precision    recall  f1-score   support\n",
      "\n",
      "           0       0.06      0.40      0.10         5\n",
      "           1       0.40      0.62      0.49        81\n",
      "           2       0.86      0.76      0.80       307\n",
      "           3       0.42      0.41      0.42       384\n",
      "           4       0.03      0.12      0.05        16\n",
      "           5       0.00      0.00      0.00         0\n",
      "           6       0.13      0.25      0.17        79\n",
      "           7       0.00      0.00      0.00         0\n",
      "           8       0.86      0.69      0.77       387\n",
      "           9       0.03      0.29      0.05         7\n",
      "          10       0.89      0.96      0.92       113\n",
      "          11       0.79      0.60      0.68      1028\n",
      "          12       0.42      0.64      0.50        50\n",
      "          13       0.13      0.78      0.23         9\n",
      "\n",
      "    accuracy                           0.61      2466\n",
      "   macro avg       0.36      0.47      0.37      2466\n",
      "weighted avg       0.70      0.61      0.65      2466\n",
      "\n",
      "\u001b[KTraining Epoch 4  97.4% | batch:       300 of       308\t|\tloss: 1.626821"
     ]
    },
    {
     "name": "stderr",
     "output_type": "stream",
     "text": [
      "2024-02-12 11:12:49,765 | INFO : Evaluating on validation set ...\n"
     ]
    },
    {
     "name": "stdout",
     "output_type": "stream",
     "text": [
      "\u001b[KEvaluating Epoch 4   1.6% | batch:        40 of      2466\t|\tloss: inf"
     ]
    },
    {
     "name": "stderr",
     "output_type": "stream",
     "text": [
      "/home/liangchen/liangchen/UniTS/ts_url/process_data.py:530: UserWarning: To copy construct from a tensor, it is recommended to use sourceTensor.clone().detach() or sourceTensor.clone().detach().requires_grad_(True), rather than torch.tensor(sourceTensor).\n",
      "  X = torch.tensor(X).transpose(0, 1)\n"
     ]
    },
    {
     "name": "stdout",
     "output_type": "stream",
     "text": [
      "\u001b[KEvaluating Epoch 4  99.8% | batch:      2460 of      2466\t|\tloss: inf"
     ]
    },
    {
     "name": "stderr",
     "output_type": "stream",
     "text": [
      "/home/liangchen/miniconda3/envs/UniTS/lib/python3.8/site-packages/sklearn/metrics/_classification.py:1469: UndefinedMetricWarning: Recall and F-score are ill-defined and being set to 0.0 in labels with no true samples. Use `zero_division` parameter to control this behavior.\n",
      "  _warn_prf(average, modifier, msg_start, len(result))\n",
      "/home/liangchen/miniconda3/envs/UniTS/lib/python3.8/site-packages/sklearn/metrics/_classification.py:1469: UndefinedMetricWarning: Recall and F-score are ill-defined and being set to 0.0 in labels with no true samples. Use `zero_division` parameter to control this behavior.\n",
      "  _warn_prf(average, modifier, msg_start, len(result))\n",
      "/home/liangchen/miniconda3/envs/UniTS/lib/python3.8/site-packages/sklearn/metrics/_classification.py:1469: UndefinedMetricWarning: Recall and F-score are ill-defined and being set to 0.0 in labels with no true samples. Use `zero_division` parameter to control this behavior.\n",
      "  _warn_prf(average, modifier, msg_start, len(result))\n",
      "2024-02-12 11:14:10,787 | INFO : Validation runtime: 0.0 hours, 1.0 minutes, 21.02080225944519 seconds\n",
      "\n",
      "2024-02-12 11:14:10,788 | INFO : Avg val. time: 0.0 hours, 1.0 minutes, 21.063838577270502 seconds\n",
      "2024-02-12 11:14:10,789 | INFO : Avg batch val. time: 0.03287260282938788 seconds\n",
      "2024-02-12 11:14:10,789 | INFO : Avg sample val. time: 0.03287260282938788 seconds\n",
      "2024-02-12 11:14:10,790 | INFO : Epoch 4 Validation Summary: epoch: 4.000000 | loss: 0.000000 | accuracy: 0.608678 | \n",
      "/home/liangchen/liangchen/UniTS/ts_url/process_data.py:530: UserWarning: To copy construct from a tensor, it is recommended to use sourceTensor.clone().detach() or sourceTensor.clone().detach().requires_grad_(True), rather than torch.tensor(sourceTensor).\n",
      "  X = torch.tensor(X).transpose(0, 1)\n"
     ]
    },
    {
     "name": "stdout",
     "output_type": "stream",
     "text": [
      "              precision    recall  f1-score   support\n",
      "\n",
      "           0       0.06      0.40      0.10         5\n",
      "           1       0.40      0.63      0.49        78\n",
      "           2       0.88      0.76      0.82       311\n",
      "           3       0.42      0.42      0.42       379\n",
      "           4       0.03      0.12      0.05        16\n",
      "           5       0.00      0.00      0.00         0\n",
      "           6       0.13      0.24      0.17        83\n",
      "           7       0.00      0.00      0.00         0\n",
      "           8       0.85      0.69      0.76       384\n",
      "           9       0.04      0.38      0.08         8\n",
      "          10       0.90      0.96      0.93       114\n",
      "          11       0.79      0.60      0.68      1029\n",
      "          12       0.42      0.67      0.51        48\n",
      "          13       0.13      0.64      0.22        11\n",
      "\n",
      "    accuracy                           0.61      2466\n",
      "   macro avg       0.36      0.46      0.37      2466\n",
      "weighted avg       0.70      0.61      0.65      2466\n",
      "\n",
      "\u001b[KTraining Epoch 5  97.4% | batch:       300 of       308\t|\tloss: 1.464342"
     ]
    },
    {
     "name": "stderr",
     "output_type": "stream",
     "text": [
      "2024-02-12 11:15:48,302 | INFO : Evaluating on validation set ...\n"
     ]
    },
    {
     "name": "stdout",
     "output_type": "stream",
     "text": [
      "\u001b[KEvaluating Epoch 5   1.6% | batch:        40 of      2466\t|\tloss: inf"
     ]
    },
    {
     "name": "stderr",
     "output_type": "stream",
     "text": [
      "/home/liangchen/liangchen/UniTS/ts_url/process_data.py:530: UserWarning: To copy construct from a tensor, it is recommended to use sourceTensor.clone().detach() or sourceTensor.clone().detach().requires_grad_(True), rather than torch.tensor(sourceTensor).\n",
      "  X = torch.tensor(X).transpose(0, 1)\n"
     ]
    },
    {
     "name": "stdout",
     "output_type": "stream",
     "text": [
      "\u001b[KEvaluating Epoch 5  99.8% | batch:      2460 of      2466\t|\tloss: inf"
     ]
    },
    {
     "name": "stderr",
     "output_type": "stream",
     "text": [
      "/home/liangchen/miniconda3/envs/UniTS/lib/python3.8/site-packages/sklearn/metrics/_classification.py:1469: UndefinedMetricWarning: Recall and F-score are ill-defined and being set to 0.0 in labels with no true samples. Use `zero_division` parameter to control this behavior.\n",
      "  _warn_prf(average, modifier, msg_start, len(result))\n",
      "/home/liangchen/miniconda3/envs/UniTS/lib/python3.8/site-packages/sklearn/metrics/_classification.py:1469: UndefinedMetricWarning: Recall and F-score are ill-defined and being set to 0.0 in labels with no true samples. Use `zero_division` parameter to control this behavior.\n",
      "  _warn_prf(average, modifier, msg_start, len(result))\n",
      "/home/liangchen/miniconda3/envs/UniTS/lib/python3.8/site-packages/sklearn/metrics/_classification.py:1469: UndefinedMetricWarning: Recall and F-score are ill-defined and being set to 0.0 in labels with no true samples. Use `zero_division` parameter to control this behavior.\n",
      "  _warn_prf(average, modifier, msg_start, len(result))\n",
      "2024-02-12 11:17:08,031 | INFO : Validation runtime: 0.0 hours, 1.0 minutes, 19.72666025161743 seconds\n",
      "\n",
      "2024-02-12 11:17:08,032 | INFO : Avg val. time: 0.0 hours, 1.0 minutes, 20.840975522994995 seconds\n",
      "2024-02-12 11:17:08,033 | INFO : Avg batch val. time: 0.0327822285170296 seconds\n",
      "2024-02-12 11:17:08,034 | INFO : Avg sample val. time: 0.0327822285170296 seconds\n",
      "2024-02-12 11:17:08,035 | INFO : Epoch 5 Validation Summary: epoch: 5.000000 | loss: 0.000000 | accuracy: 0.607461 | \n",
      "/home/liangchen/liangchen/UniTS/ts_url/process_data.py:530: UserWarning: To copy construct from a tensor, it is recommended to use sourceTensor.clone().detach() or sourceTensor.clone().detach().requires_grad_(True), rather than torch.tensor(sourceTensor).\n",
      "  X = torch.tensor(X).transpose(0, 1)\n"
     ]
    },
    {
     "name": "stdout",
     "output_type": "stream",
     "text": [
      "              precision    recall  f1-score   support\n",
      "\n",
      "           0       0.06      0.40      0.10         5\n",
      "           1       0.40      0.60      0.48        82\n",
      "           2       0.88      0.76      0.81       313\n",
      "           3       0.42      0.43      0.43       379\n",
      "           4       0.03      0.12      0.05        16\n",
      "           5       0.00      0.00      0.00         0\n",
      "           6       0.13      0.23      0.17        86\n",
      "           7       0.00      0.00      0.00         0\n",
      "           8       0.85      0.70      0.77       384\n",
      "           9       0.03      0.40      0.05         5\n",
      "          10       0.90      0.96      0.93       114\n",
      "          11       0.79      0.60      0.68      1024\n",
      "          12       0.40      0.66      0.50        47\n",
      "          13       0.13      0.64      0.22        11\n",
      "\n",
      "    accuracy                           0.61      2466\n",
      "   macro avg       0.36      0.46      0.37      2466\n",
      "weighted avg       0.70      0.61      0.64      2466\n",
      "\n",
      "\u001b[KTraining Epoch 6  97.4% | batch:       300 of       308\t|\tloss: 1.307135"
     ]
    },
    {
     "name": "stderr",
     "output_type": "stream",
     "text": [
      "2024-02-12 11:18:46,850 | INFO : Evaluating on validation set ...\n"
     ]
    },
    {
     "name": "stdout",
     "output_type": "stream",
     "text": [
      "\u001b[KEvaluating Epoch 6   1.2% | batch:        30 of      2466\t|\tloss: inf"
     ]
    },
    {
     "name": "stderr",
     "output_type": "stream",
     "text": [
      "/home/liangchen/liangchen/UniTS/ts_url/process_data.py:530: UserWarning: To copy construct from a tensor, it is recommended to use sourceTensor.clone().detach() or sourceTensor.clone().detach().requires_grad_(True), rather than torch.tensor(sourceTensor).\n",
      "  X = torch.tensor(X).transpose(0, 1)\n"
     ]
    },
    {
     "name": "stdout",
     "output_type": "stream",
     "text": [
      "\u001b[KEvaluating Epoch 6  99.8% | batch:      2460 of      2466\t|\tloss: inf"
     ]
    },
    {
     "name": "stderr",
     "output_type": "stream",
     "text": [
      "/home/liangchen/miniconda3/envs/UniTS/lib/python3.8/site-packages/sklearn/metrics/_classification.py:1469: UndefinedMetricWarning: Recall and F-score are ill-defined and being set to 0.0 in labels with no true samples. Use `zero_division` parameter to control this behavior.\n",
      "  _warn_prf(average, modifier, msg_start, len(result))\n",
      "/home/liangchen/miniconda3/envs/UniTS/lib/python3.8/site-packages/sklearn/metrics/_classification.py:1469: UndefinedMetricWarning: Recall and F-score are ill-defined and being set to 0.0 in labels with no true samples. Use `zero_division` parameter to control this behavior.\n",
      "  _warn_prf(average, modifier, msg_start, len(result))\n",
      "/home/liangchen/miniconda3/envs/UniTS/lib/python3.8/site-packages/sklearn/metrics/_classification.py:1469: UndefinedMetricWarning: Recall and F-score are ill-defined and being set to 0.0 in labels with no true samples. Use `zero_division` parameter to control this behavior.\n",
      "  _warn_prf(average, modifier, msg_start, len(result))\n",
      "2024-02-12 11:20:06,144 | INFO : Validation runtime: 0.0 hours, 1.0 minutes, 19.291937828063965 seconds\n",
      "\n",
      "2024-02-12 11:20:06,145 | INFO : Avg val. time: 0.0 hours, 1.0 minutes, 20.619684423719136 seconds\n",
      "2024-02-12 11:20:06,147 | INFO : Avg batch val. time: 0.03269249165600938 seconds\n",
      "2024-02-12 11:20:06,147 | INFO : Avg sample val. time: 0.03269249165600938 seconds\n",
      "2024-02-12 11:20:06,148 | INFO : Epoch 6 Validation Summary: epoch: 6.000000 | loss: 0.000000 | accuracy: 0.607461 | \n",
      "/home/liangchen/liangchen/UniTS/ts_url/process_data.py:530: UserWarning: To copy construct from a tensor, it is recommended to use sourceTensor.clone().detach() or sourceTensor.clone().detach().requires_grad_(True), rather than torch.tensor(sourceTensor).\n",
      "  X = torch.tensor(X).transpose(0, 1)\n"
     ]
    },
    {
     "name": "stdout",
     "output_type": "stream",
     "text": [
      "              precision    recall  f1-score   support\n",
      "\n",
      "           0       0.06      0.40      0.10         5\n",
      "           1       0.40      0.60      0.48        81\n",
      "           2       0.89      0.76      0.82       315\n",
      "           3       0.42      0.43      0.42       378\n",
      "           4       0.03      0.13      0.05        15\n",
      "           5       0.00      0.00      0.00         0\n",
      "           6       0.13      0.22      0.16        91\n",
      "           7       0.00      0.00      0.00         0\n",
      "           8       0.85      0.70      0.76       380\n",
      "           9       0.03      0.40      0.05         5\n",
      "          10       0.90      0.96      0.93       114\n",
      "          11       0.79      0.60      0.68      1024\n",
      "          12       0.40      0.66      0.50        47\n",
      "          13       0.13      0.64      0.22        11\n",
      "\n",
      "    accuracy                           0.61      2466\n",
      "   macro avg       0.36      0.46      0.37      2466\n",
      "weighted avg       0.70      0.61      0.64      2466\n",
      "\n",
      "\u001b[KTraining Epoch 7  97.4% | batch:       300 of       308\t|\tloss: 1.185674"
     ]
    },
    {
     "name": "stderr",
     "output_type": "stream",
     "text": [
      "2024-02-12 11:21:44,947 | INFO : Evaluating on validation set ...\n"
     ]
    },
    {
     "name": "stdout",
     "output_type": "stream",
     "text": [
      "\u001b[KEvaluating Epoch 7   1.6% | batch:        40 of      2466\t|\tloss: inf"
     ]
    },
    {
     "name": "stderr",
     "output_type": "stream",
     "text": [
      "/home/liangchen/liangchen/UniTS/ts_url/process_data.py:530: UserWarning: To copy construct from a tensor, it is recommended to use sourceTensor.clone().detach() or sourceTensor.clone().detach().requires_grad_(True), rather than torch.tensor(sourceTensor).\n",
      "  X = torch.tensor(X).transpose(0, 1)\n"
     ]
    },
    {
     "name": "stdout",
     "output_type": "stream",
     "text": [
      "\u001b[KEvaluating Epoch 7  99.8% | batch:      2460 of      2466\t|\tloss: inf"
     ]
    },
    {
     "name": "stderr",
     "output_type": "stream",
     "text": [
      "/home/liangchen/miniconda3/envs/UniTS/lib/python3.8/site-packages/sklearn/metrics/_classification.py:1469: UndefinedMetricWarning: Recall and F-score are ill-defined and being set to 0.0 in labels with no true samples. Use `zero_division` parameter to control this behavior.\n",
      "  _warn_prf(average, modifier, msg_start, len(result))\n",
      "/home/liangchen/miniconda3/envs/UniTS/lib/python3.8/site-packages/sklearn/metrics/_classification.py:1469: UndefinedMetricWarning: Recall and F-score are ill-defined and being set to 0.0 in labels with no true samples. Use `zero_division` parameter to control this behavior.\n",
      "  _warn_prf(average, modifier, msg_start, len(result))\n",
      "/home/liangchen/miniconda3/envs/UniTS/lib/python3.8/site-packages/sklearn/metrics/_classification.py:1469: UndefinedMetricWarning: Recall and F-score are ill-defined and being set to 0.0 in labels with no true samples. Use `zero_division` parameter to control this behavior.\n",
      "  _warn_prf(average, modifier, msg_start, len(result))\n",
      "2024-02-12 11:23:04,264 | INFO : Validation runtime: 0.0 hours, 1.0 minutes, 19.315267324447632 seconds\n",
      "\n",
      "2024-02-12 11:23:04,266 | INFO : Avg val. time: 0.0 hours, 1.0 minutes, 20.456632286310196 seconds\n",
      "2024-02-12 11:23:04,267 | INFO : Avg batch val. time: 0.03262637156784679 seconds\n",
      "2024-02-12 11:23:04,268 | INFO : Avg sample val. time: 0.03262637156784679 seconds\n",
      "2024-02-12 11:23:04,269 | INFO : Epoch 7 Validation Summary: epoch: 7.000000 | loss: 0.000000 | accuracy: 0.607867 | \n",
      "/home/liangchen/liangchen/UniTS/ts_url/process_data.py:530: UserWarning: To copy construct from a tensor, it is recommended to use sourceTensor.clone().detach() or sourceTensor.clone().detach().requires_grad_(True), rather than torch.tensor(sourceTensor).\n",
      "  X = torch.tensor(X).transpose(0, 1)\n"
     ]
    },
    {
     "name": "stdout",
     "output_type": "stream",
     "text": [
      "              precision    recall  f1-score   support\n",
      "\n",
      "           0       0.06      0.50      0.10         4\n",
      "           1       0.39      0.61      0.47        79\n",
      "           2       0.89      0.75      0.81       319\n",
      "           3       0.43      0.43      0.43       378\n",
      "           4       0.03      0.13      0.05        15\n",
      "           5       0.00      0.00      0.00         0\n",
      "           6       0.13      0.22      0.17        89\n",
      "           7       0.00      0.00      0.00         0\n",
      "           8       0.84      0.69      0.76       380\n",
      "           9       0.04      0.60      0.08         5\n",
      "          10       0.90      0.96      0.93       114\n",
      "          11       0.79      0.60      0.68      1025\n",
      "          12       0.39      0.64      0.48        47\n",
      "          13       0.13      0.64      0.22        11\n",
      "\n",
      "    accuracy                           0.61      2466\n",
      "   macro avg       0.36      0.48      0.37      2466\n",
      "weighted avg       0.70      0.61      0.65      2466\n",
      "\n",
      "\u001b[KTraining Epoch 8  97.4% | batch:       300 of       308\t|\tloss: 1.095471"
     ]
    },
    {
     "name": "stderr",
     "output_type": "stream",
     "text": [
      "2024-02-12 11:24:23,138 | INFO : Evaluating on validation set ...\n"
     ]
    },
    {
     "name": "stdout",
     "output_type": "stream",
     "text": [
      "\u001b[KEvaluating Epoch 8   1.2% | batch:        30 of      2466\t|\tloss: inf"
     ]
    },
    {
     "name": "stderr",
     "output_type": "stream",
     "text": [
      "/home/liangchen/liangchen/UniTS/ts_url/process_data.py:530: UserWarning: To copy construct from a tensor, it is recommended to use sourceTensor.clone().detach() or sourceTensor.clone().detach().requires_grad_(True), rather than torch.tensor(sourceTensor).\n",
      "  X = torch.tensor(X).transpose(0, 1)\n"
     ]
    },
    {
     "name": "stdout",
     "output_type": "stream",
     "text": [
      "\u001b[KEvaluating Epoch 8  99.8% | batch:      2460 of      2466\t|\tloss: inf"
     ]
    },
    {
     "name": "stderr",
     "output_type": "stream",
     "text": [
      "/home/liangchen/miniconda3/envs/UniTS/lib/python3.8/site-packages/sklearn/metrics/_classification.py:1469: UndefinedMetricWarning: Recall and F-score are ill-defined and being set to 0.0 in labels with no true samples. Use `zero_division` parameter to control this behavior.\n",
      "  _warn_prf(average, modifier, msg_start, len(result))\n",
      "/home/liangchen/miniconda3/envs/UniTS/lib/python3.8/site-packages/sklearn/metrics/_classification.py:1469: UndefinedMetricWarning: Recall and F-score are ill-defined and being set to 0.0 in labels with no true samples. Use `zero_division` parameter to control this behavior.\n",
      "  _warn_prf(average, modifier, msg_start, len(result))\n",
      "/home/liangchen/miniconda3/envs/UniTS/lib/python3.8/site-packages/sklearn/metrics/_classification.py:1469: UndefinedMetricWarning: Recall and F-score are ill-defined and being set to 0.0 in labels with no true samples. Use `zero_division` parameter to control this behavior.\n",
      "  _warn_prf(average, modifier, msg_start, len(result))\n",
      "2024-02-12 11:25:45,996 | INFO : Validation runtime: 0.0 hours, 1.0 minutes, 22.85668683052063 seconds\n",
      "\n",
      "2024-02-12 11:25:45,998 | INFO : Avg val. time: 0.0 hours, 1.0 minutes, 20.723305013444687 seconds\n",
      "2024-02-12 11:25:45,999 | INFO : Avg batch val. time: 0.03273451135987213 seconds\n",
      "2024-02-12 11:25:46,000 | INFO : Avg sample val. time: 0.03273451135987213 seconds\n",
      "2024-02-12 11:25:46,001 | INFO : Epoch 8 Validation Summary: epoch: 8.000000 | loss: 0.000000 | accuracy: 0.608273 | \n",
      "/home/liangchen/liangchen/UniTS/ts_url/process_data.py:530: UserWarning: To copy construct from a tensor, it is recommended to use sourceTensor.clone().detach() or sourceTensor.clone().detach().requires_grad_(True), rather than torch.tensor(sourceTensor).\n",
      "  X = torch.tensor(X).transpose(0, 1)\n"
     ]
    },
    {
     "name": "stdout",
     "output_type": "stream",
     "text": [
      "              precision    recall  f1-score   support\n",
      "\n",
      "           0       0.06      0.50      0.10         4\n",
      "           1       0.39      0.62      0.48        78\n",
      "           2       0.90      0.76      0.82       320\n",
      "           3       0.43      0.43      0.43       383\n",
      "           4       0.03      0.13      0.05        15\n",
      "           5       0.00      0.00      0.00         0\n",
      "           6       0.14      0.24      0.17        88\n",
      "           7       0.00      0.00      0.00         0\n",
      "           8       0.84      0.70      0.76       378\n",
      "           9       0.03      0.50      0.06         4\n",
      "          10       0.89      0.96      0.93       112\n",
      "          11       0.78      0.59      0.68      1027\n",
      "          12       0.39      0.64      0.48        47\n",
      "          13       0.13      0.70      0.23        10\n",
      "\n",
      "    accuracy                           0.61      2466\n",
      "   macro avg       0.36      0.48      0.37      2466\n",
      "weighted avg       0.71      0.61      0.65      2466\n",
      "\n",
      "\u001b[KTraining Epoch 9  97.4% | batch:       300 of       308\t|\tloss: 1.037492"
     ]
    },
    {
     "name": "stderr",
     "output_type": "stream",
     "text": [
      "2024-02-12 11:27:24,295 | INFO : Evaluating on validation set ...\n"
     ]
    },
    {
     "name": "stdout",
     "output_type": "stream",
     "text": [
      "\u001b[KEvaluating Epoch 9   1.2% | batch:        30 of      2466\t|\tloss: inf"
     ]
    },
    {
     "name": "stderr",
     "output_type": "stream",
     "text": [
      "/home/liangchen/liangchen/UniTS/ts_url/process_data.py:530: UserWarning: To copy construct from a tensor, it is recommended to use sourceTensor.clone().detach() or sourceTensor.clone().detach().requires_grad_(True), rather than torch.tensor(sourceTensor).\n",
      "  X = torch.tensor(X).transpose(0, 1)\n"
     ]
    },
    {
     "name": "stdout",
     "output_type": "stream",
     "text": [
      "\u001b[KEvaluating Epoch 9  99.8% | batch:      2460 of      2466\t|\tloss: inf"
     ]
    },
    {
     "name": "stderr",
     "output_type": "stream",
     "text": [
      "/home/liangchen/miniconda3/envs/UniTS/lib/python3.8/site-packages/sklearn/metrics/_classification.py:1469: UndefinedMetricWarning: Recall and F-score are ill-defined and being set to 0.0 in labels with no true samples. Use `zero_division` parameter to control this behavior.\n",
      "  _warn_prf(average, modifier, msg_start, len(result))\n",
      "/home/liangchen/miniconda3/envs/UniTS/lib/python3.8/site-packages/sklearn/metrics/_classification.py:1469: UndefinedMetricWarning: Recall and F-score are ill-defined and being set to 0.0 in labels with no true samples. Use `zero_division` parameter to control this behavior.\n",
      "  _warn_prf(average, modifier, msg_start, len(result))\n",
      "/home/liangchen/miniconda3/envs/UniTS/lib/python3.8/site-packages/sklearn/metrics/_classification.py:1469: UndefinedMetricWarning: Recall and F-score are ill-defined and being set to 0.0 in labels with no true samples. Use `zero_division` parameter to control this behavior.\n",
      "  _warn_prf(average, modifier, msg_start, len(result))\n",
      "2024-02-12 11:28:46,825 | INFO : Validation runtime: 0.0 hours, 1.0 minutes, 22.527624368667603 seconds\n",
      "\n",
      "2024-02-12 11:28:46,826 | INFO : Avg val. time: 0.0 hours, 1.0 minutes, 20.90373694896698 seconds\n",
      "2024-02-12 11:28:46,827 | INFO : Avg batch val. time: 0.032807679216937134 seconds\n",
      "2024-02-12 11:28:46,828 | INFO : Avg sample val. time: 0.032807679216937134 seconds\n",
      "2024-02-12 11:28:46,829 | INFO : Epoch 9 Validation Summary: epoch: 9.000000 | loss: 0.000000 | accuracy: 0.607461 | \n",
      "/home/liangchen/liangchen/UniTS/ts_url/process_data.py:530: UserWarning: To copy construct from a tensor, it is recommended to use sourceTensor.clone().detach() or sourceTensor.clone().detach().requires_grad_(True), rather than torch.tensor(sourceTensor).\n",
      "  X = torch.tensor(X).transpose(0, 1)\n"
     ]
    },
    {
     "name": "stdout",
     "output_type": "stream",
     "text": [
      "              precision    recall  f1-score   support\n",
      "\n",
      "           0       0.06      0.50      0.10         4\n",
      "           1       0.38      0.61      0.47        77\n",
      "           2       0.90      0.76      0.82       319\n",
      "           3       0.43      0.43      0.43       381\n",
      "           4       0.03      0.13      0.05        15\n",
      "           5       0.00      0.00      0.00         0\n",
      "           6       0.14      0.24      0.17        89\n",
      "           7       0.00      0.00      0.00         0\n",
      "           8       0.84      0.70      0.77       376\n",
      "           9       0.04      0.60      0.08         5\n",
      "          10       0.89      0.96      0.93       112\n",
      "          11       0.78      0.59      0.67      1029\n",
      "          12       0.40      0.65      0.50        48\n",
      "          13       0.13      0.64      0.22        11\n",
      "\n",
      "    accuracy                           0.61      2466\n",
      "   macro avg       0.36      0.49      0.37      2466\n",
      "weighted avg       0.70      0.61      0.64      2466\n",
      "\n",
      "\u001b[KTraining Epoch 10  97.4% | batch:       300 of       308\t|\tloss: 0.998116"
     ]
    },
    {
     "name": "stderr",
     "output_type": "stream",
     "text": [
      "2024-02-12 11:30:26,052 | INFO : Evaluating on validation set ...\n"
     ]
    },
    {
     "name": "stdout",
     "output_type": "stream",
     "text": [
      "\u001b[KEvaluating Epoch 10   1.6% | batch:        40 of      2466\t|\tloss: inf"
     ]
    },
    {
     "name": "stderr",
     "output_type": "stream",
     "text": [
      "/home/liangchen/liangchen/UniTS/ts_url/process_data.py:530: UserWarning: To copy construct from a tensor, it is recommended to use sourceTensor.clone().detach() or sourceTensor.clone().detach().requires_grad_(True), rather than torch.tensor(sourceTensor).\n",
      "  X = torch.tensor(X).transpose(0, 1)\n"
     ]
    },
    {
     "name": "stdout",
     "output_type": "stream",
     "text": [
      "\u001b[KEvaluating Epoch 10  99.8% | batch:      2460 of      2466\t|\tloss: inf"
     ]
    },
    {
     "name": "stderr",
     "output_type": "stream",
     "text": [
      "/home/liangchen/miniconda3/envs/UniTS/lib/python3.8/site-packages/sklearn/metrics/_classification.py:1469: UndefinedMetricWarning: Recall and F-score are ill-defined and being set to 0.0 in labels with no true samples. Use `zero_division` parameter to control this behavior.\n",
      "  _warn_prf(average, modifier, msg_start, len(result))\n",
      "/home/liangchen/miniconda3/envs/UniTS/lib/python3.8/site-packages/sklearn/metrics/_classification.py:1469: UndefinedMetricWarning: Recall and F-score are ill-defined and being set to 0.0 in labels with no true samples. Use `zero_division` parameter to control this behavior.\n",
      "  _warn_prf(average, modifier, msg_start, len(result))\n",
      "/home/liangchen/miniconda3/envs/UniTS/lib/python3.8/site-packages/sklearn/metrics/_classification.py:1469: UndefinedMetricWarning: Recall and F-score are ill-defined and being set to 0.0 in labels with no true samples. Use `zero_division` parameter to control this behavior.\n",
      "  _warn_prf(average, modifier, msg_start, len(result))\n",
      "2024-02-12 11:31:45,681 | INFO : Validation runtime: 0.0 hours, 1.0 minutes, 19.62709069252014 seconds\n",
      "\n",
      "2024-02-12 11:31:45,682 | INFO : Avg val. time: 0.0 hours, 1.0 minutes, 20.787678198380902 seconds\n",
      "2024-02-12 11:31:45,684 | INFO : Avg batch val. time: 0.03276061565222259 seconds\n",
      "2024-02-12 11:31:45,684 | INFO : Avg sample val. time: 0.03276061565222259 seconds\n",
      "2024-02-12 11:31:45,685 | INFO : Epoch 10 Validation Summary: epoch: 10.000000 | loss: 0.000000 | accuracy: 0.607056 | \n",
      "/home/liangchen/liangchen/UniTS/ts_url/process_data.py:530: UserWarning: To copy construct from a tensor, it is recommended to use sourceTensor.clone().detach() or sourceTensor.clone().detach().requires_grad_(True), rather than torch.tensor(sourceTensor).\n",
      "  X = torch.tensor(X).transpose(0, 1)\n"
     ]
    },
    {
     "name": "stdout",
     "output_type": "stream",
     "text": [
      "              precision    recall  f1-score   support\n",
      "\n",
      "           0       0.06      0.50      0.10         4\n",
      "           1       0.38      0.61      0.47        77\n",
      "           2       0.90      0.75      0.82       322\n",
      "           3       0.42      0.43      0.42       376\n",
      "           4       0.03      0.13      0.05        15\n",
      "           5       0.00      0.00      0.00         0\n",
      "           6       0.14      0.25      0.18        89\n",
      "           7       0.00      0.00      0.00         0\n",
      "           8       0.84      0.70      0.76       378\n",
      "           9       0.03      0.50      0.06         4\n",
      "          10       0.89      0.96      0.93       112\n",
      "          11       0.79      0.59      0.67      1034\n",
      "          12       0.38      0.64      0.48        45\n",
      "          13       0.13      0.70      0.23        10\n",
      "\n",
      "    accuracy                           0.61      2466\n",
      "   macro avg       0.36      0.48      0.37      2466\n",
      "weighted avg       0.71      0.61      0.64      2466\n",
      "\n",
      "\u001b[KTraining Epoch 11  97.4% | batch:       300 of       308\t|\tloss: 0.954672"
     ]
    },
    {
     "name": "stderr",
     "output_type": "stream",
     "text": [
      "2024-02-12 11:33:24,213 | INFO : Evaluating on validation set ...\n"
     ]
    },
    {
     "name": "stdout",
     "output_type": "stream",
     "text": [
      "\u001b[KEvaluating Epoch 11   1.6% | batch:        40 of      2466\t|\tloss: inf"
     ]
    },
    {
     "name": "stderr",
     "output_type": "stream",
     "text": [
      "/home/liangchen/liangchen/UniTS/ts_url/process_data.py:530: UserWarning: To copy construct from a tensor, it is recommended to use sourceTensor.clone().detach() or sourceTensor.clone().detach().requires_grad_(True), rather than torch.tensor(sourceTensor).\n",
      "  X = torch.tensor(X).transpose(0, 1)\n"
     ]
    },
    {
     "name": "stdout",
     "output_type": "stream",
     "text": [
      "\u001b[KEvaluating Epoch 11  99.8% | batch:      2460 of      2466\t|\tloss: inf"
     ]
    },
    {
     "name": "stderr",
     "output_type": "stream",
     "text": [
      "/home/liangchen/miniconda3/envs/UniTS/lib/python3.8/site-packages/sklearn/metrics/_classification.py:1469: UndefinedMetricWarning: Recall and F-score are ill-defined and being set to 0.0 in labels with no true samples. Use `zero_division` parameter to control this behavior.\n",
      "  _warn_prf(average, modifier, msg_start, len(result))\n",
      "/home/liangchen/miniconda3/envs/UniTS/lib/python3.8/site-packages/sklearn/metrics/_classification.py:1469: UndefinedMetricWarning: Recall and F-score are ill-defined and being set to 0.0 in labels with no true samples. Use `zero_division` parameter to control this behavior.\n",
      "  _warn_prf(average, modifier, msg_start, len(result))\n",
      "/home/liangchen/miniconda3/envs/UniTS/lib/python3.8/site-packages/sklearn/metrics/_classification.py:1469: UndefinedMetricWarning: Recall and F-score are ill-defined and being set to 0.0 in labels with no true samples. Use `zero_division` parameter to control this behavior.\n",
      "  _warn_prf(average, modifier, msg_start, len(result))\n",
      "2024-02-12 11:34:42,842 | INFO : Validation runtime: 0.0 hours, 1.0 minutes, 18.62771224975586 seconds\n",
      "\n",
      "2024-02-12 11:34:42,843 | INFO : Avg val. time: 0.0 hours, 1.0 minutes, 20.607681035995483 seconds\n",
      "2024-02-12 11:34:42,844 | INFO : Avg batch val. time: 0.03268762410218795 seconds\n",
      "2024-02-12 11:34:42,845 | INFO : Avg sample val. time: 0.03268762410218795 seconds\n",
      "2024-02-12 11:34:42,846 | INFO : Epoch 11 Validation Summary: epoch: 11.000000 | loss: 0.000000 | accuracy: 0.607867 | \n",
      "/home/liangchen/liangchen/UniTS/ts_url/process_data.py:530: UserWarning: To copy construct from a tensor, it is recommended to use sourceTensor.clone().detach() or sourceTensor.clone().detach().requires_grad_(True), rather than torch.tensor(sourceTensor).\n",
      "  X = torch.tensor(X).transpose(0, 1)\n"
     ]
    },
    {
     "name": "stdout",
     "output_type": "stream",
     "text": [
      "              precision    recall  f1-score   support\n",
      "\n",
      "           0       0.06      0.50      0.10         4\n",
      "           1       0.37      0.61      0.46        75\n",
      "           2       0.90      0.76      0.82       321\n",
      "           3       0.42      0.43      0.43       378\n",
      "           4       0.03      0.13      0.05        15\n",
      "           5       0.00      0.00      0.00         0\n",
      "           6       0.14      0.24      0.17        89\n",
      "           7       0.00      0.00      0.00         0\n",
      "           8       0.84      0.70      0.76       378\n",
      "           9       0.03      0.67      0.06         3\n",
      "          10       0.89      0.96      0.93       112\n",
      "          11       0.79      0.59      0.68      1036\n",
      "          12       0.39      0.67      0.49        45\n",
      "          13       0.13      0.70      0.23        10\n",
      "\n",
      "    accuracy                           0.61      2466\n",
      "   macro avg       0.36      0.50      0.37      2466\n",
      "weighted avg       0.71      0.61      0.65      2466\n",
      "\n",
      "\u001b[KTraining Epoch 12  97.4% | batch:       300 of       308\t|\tloss: 0.947803"
     ]
    },
    {
     "name": "stderr",
     "output_type": "stream",
     "text": [
      "2024-02-12 11:36:14,830 | INFO : Evaluating on validation set ...\n"
     ]
    },
    {
     "name": "stdout",
     "output_type": "stream",
     "text": [
      "\u001b[KEvaluating Epoch 12   1.2% | batch:        30 of      2466\t|\tloss: inf"
     ]
    },
    {
     "name": "stderr",
     "output_type": "stream",
     "text": [
      "/home/liangchen/liangchen/UniTS/ts_url/process_data.py:530: UserWarning: To copy construct from a tensor, it is recommended to use sourceTensor.clone().detach() or sourceTensor.clone().detach().requires_grad_(True), rather than torch.tensor(sourceTensor).\n",
      "  X = torch.tensor(X).transpose(0, 1)\n"
     ]
    },
    {
     "name": "stdout",
     "output_type": "stream",
     "text": [
      "\u001b[KEvaluating Epoch 12  99.8% | batch:      2460 of      2466\t|\tloss: inf"
     ]
    },
    {
     "name": "stderr",
     "output_type": "stream",
     "text": [
      "/home/liangchen/miniconda3/envs/UniTS/lib/python3.8/site-packages/sklearn/metrics/_classification.py:1469: UndefinedMetricWarning: Recall and F-score are ill-defined and being set to 0.0 in labels with no true samples. Use `zero_division` parameter to control this behavior.\n",
      "  _warn_prf(average, modifier, msg_start, len(result))\n",
      "/home/liangchen/miniconda3/envs/UniTS/lib/python3.8/site-packages/sklearn/metrics/_classification.py:1469: UndefinedMetricWarning: Recall and F-score are ill-defined and being set to 0.0 in labels with no true samples. Use `zero_division` parameter to control this behavior.\n",
      "  _warn_prf(average, modifier, msg_start, len(result))\n",
      "/home/liangchen/miniconda3/envs/UniTS/lib/python3.8/site-packages/sklearn/metrics/_classification.py:1469: UndefinedMetricWarning: Recall and F-score are ill-defined and being set to 0.0 in labels with no true samples. Use `zero_division` parameter to control this behavior.\n",
      "  _warn_prf(average, modifier, msg_start, len(result))\n",
      "2024-02-12 11:37:35,304 | INFO : Validation runtime: 0.0 hours, 1.0 minutes, 20.47189736366272 seconds\n",
      "\n",
      "2024-02-12 11:37:35,305 | INFO : Avg val. time: 0.0 hours, 1.0 minutes, 20.597236138123733 seconds\n",
      "2024-02-12 11:37:35,307 | INFO : Avg batch val. time: 0.032683388539385134 seconds\n",
      "2024-02-12 11:37:35,308 | INFO : Avg sample val. time: 0.032683388539385134 seconds\n",
      "2024-02-12 11:37:35,308 | INFO : Epoch 12 Validation Summary: epoch: 12.000000 | loss: 0.000000 | accuracy: 0.605839 | \n",
      "/home/liangchen/liangchen/UniTS/ts_url/process_data.py:530: UserWarning: To copy construct from a tensor, it is recommended to use sourceTensor.clone().detach() or sourceTensor.clone().detach().requires_grad_(True), rather than torch.tensor(sourceTensor).\n",
      "  X = torch.tensor(X).transpose(0, 1)\n"
     ]
    },
    {
     "name": "stdout",
     "output_type": "stream",
     "text": [
      "              precision    recall  f1-score   support\n",
      "\n",
      "           0       0.06      0.50      0.10         4\n",
      "           1       0.39      0.62      0.48        77\n",
      "           2       0.90      0.75      0.82       323\n",
      "           3       0.42      0.43      0.42       376\n",
      "           4       0.03      0.13      0.05        15\n",
      "           5       0.00      0.00      0.00         0\n",
      "           6       0.14      0.23      0.17        90\n",
      "           7       0.00      0.00      0.00         0\n",
      "           8       0.84      0.70      0.76       376\n",
      "           9       0.03      0.67      0.06         3\n",
      "          10       0.89      0.96      0.93       112\n",
      "          11       0.79      0.59      0.67      1037\n",
      "          12       0.36      0.65      0.47        43\n",
      "          13       0.13      0.70      0.23        10\n",
      "\n",
      "    accuracy                           0.61      2466\n",
      "   macro avg       0.36      0.50      0.37      2466\n",
      "weighted avg       0.70      0.61      0.64      2466\n",
      "\n",
      "\u001b[KTraining Epoch 13  97.4% | batch:       300 of       308\t|\tloss: 0.884523"
     ]
    },
    {
     "name": "stderr",
     "output_type": "stream",
     "text": [
      "2024-02-12 11:39:15,394 | INFO : Evaluating on validation set ...\n"
     ]
    }
   ],
   "source": [
    "import random\n",
    "import numpy as np\n",
    "random.seed(0)\n",
    "torch.manual_seed(0)\n",
    "np.random.seed(0)\n",
    "torch.cuda.manual_seed(0)\n",
    "torch.backends.cudnn.deterministic = True\n",
    "trainer = Trainer(data_configs, model_name, p_path, \n",
    "                  device, optim_config, task_name, save_path=save_path)\n",
    "\n",
    "trainer.fit()\n"
   ]
  },
  {
   "cell_type": "code",
   "execution_count": null,
   "metadata": {},
   "outputs": [],
   "source": []
  }
 ],
 "metadata": {
  "kernelspec": {
   "display_name": "UniTS",
   "language": "python",
   "name": "python3"
  },
  "language_info": {
   "codemirror_mode": {
    "name": "ipython",
    "version": 3
   },
   "file_extension": ".py",
   "mimetype": "text/x-python",
   "name": "python",
   "nbconvert_exporter": "python",
   "pygments_lexer": "ipython3",
   "version": "3.8.18"
  }
 },
 "nbformat": 4,
 "nbformat_minor": 2
}
