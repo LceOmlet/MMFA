{
 "cells": [
  {
   "cell_type": "code",
   "execution_count": 2,
   "metadata": {},
   "outputs": [
    {
     "name": "stderr",
     "output_type": "stream",
     "text": [
      "/home/liangchen/miniconda3/envs/new/lib/python3.8/site-packages/tqdm/auto.py:21: TqdmWarning: IProgress not found. Please update jupyter and ipywidgets. See https://ipywidgets.readthedocs.io/en/stable/user_install.html\n",
      "  from .autonotebook import tqdm as notebook_tqdm\n"
     ]
    }
   ],
   "source": [
    "import torch\n",
    "from ts_url.training_methods import Trainer\n",
    "import time\n",
    "import os "
   ]
  },
  {
   "cell_type": "markdown",
   "metadata": {},
   "source": [
    "Try csl on LSST dataset with SVM as the test module."
   ]
  },
  {
   "cell_type": "code",
   "execution_count": 3,
   "metadata": {},
   "outputs": [],
   "source": [
    "\n",
    "experiment = \"exp1\"\n",
    "\n",
    "hp_path = \"configs/csl_optim.json\"\n",
    "p_path = \"configs/csl.json\"\n",
    "optim_config = \"configs/csl_optim.json\"\n",
    "task_name = \"pretraining\"\n",
    "model_name = \"csl\"\n",
    "\n",
    "device = torch.device('cuda')\n",
    "\n",
    "\n",
    "def get_config(filepath=\"\", train_ratio=1, test_ratio=1, dsid=\"LSST\"):\n",
    "    data_configs = [{\n",
    "        \"filepath\": filepath,\n",
    "        \"train_ratio\": train_ratio,\n",
    "        \"test_ratio\": test_ratio,\n",
    "        \"dsid\": dsid\n",
    "    }]\n",
    "    return data_configs\n",
    "\n",
    "data_configs = get_config()\n",
    "\n",
    "data_names = [d['dsid'] for d in data_configs]\n",
    "task_summary = \"_\".join(data_names) + \"_\" + model_name\n",
    "start_time = time.strftime(\"%m_%d_%H_%M_%S\", time.localtime()) \n",
    "save_path = os.path.join(experiment, task_summary, start_time)\n",
    "\n",
    "os.makedirs(save_path, exist_ok=True)\n",
    "\n"
   ]
  },
  {
   "cell_type": "markdown",
   "metadata": {},
   "source": [
    "Try ts_tcc on LSST dataset with SVM as test module."
   ]
  },
  {
   "cell_type": "code",
   "execution_count": 3,
   "metadata": {},
   "outputs": [],
   "source": [
    "experiment = \"exp1\"\n",
    "\n",
    "# hp_path = \"configs/ts_tcc_optim.json\"\n",
    "p_path = \"configs/ts_tcc.json\"\n",
    "optim_config = \"configs/ts_tcc_optim.json\"\n",
    "task_name = \"pretraining\"\n",
    "model_name = \"ts_tcc\"\n",
    "\n",
    "device = torch.device('cuda')\n",
    "\n",
    "data_names = [d['dsid'] for d in data_configs]\n",
    "task_summary = \"_\".join(data_names) + \"_\" + model_name\n",
    "start_time = time.strftime(\"%m_%d_%H_%M_%S\", time.localtime()) \n",
    "save_path = os.path.join(experiment, task_summary, start_time)\n",
    "\n",
    "os.makedirs(save_path, exist_ok=True)"
   ]
  },
  {
   "cell_type": "markdown",
   "metadata": {},
   "source": [
    "Try t_loss on LSST dataset with SVM as test module."
   ]
  },
  {
   "cell_type": "code",
   "execution_count": 4,
   "metadata": {},
   "outputs": [],
   "source": [
    "experiment = \"exp1\"\n",
    "\n",
    "# hp_path = \"configs/ts_tcc_optim.json\"\n",
    "p_path = \"configs/t_loss.json\"\n",
    "optim_config = \"configs/t_loss_optim.json\"\n",
    "task_name = \"pretraining\"\n",
    "model_name = \"t_loss\"\n",
    "\n",
    "device = torch.device('cuda')\n",
    "\n",
    "data_names = [d['dsid'] for d in data_configs]\n",
    "task_summary = \"_\".join(data_names) + \"_\" + model_name\n",
    "start_time = time.strftime(\"%m_%d_%H_%M_%S\", time.localtime()) \n",
    "save_path = os.path.join(experiment, task_summary, start_time)\n",
    "\n",
    "os.makedirs(save_path, exist_ok=True)"
   ]
  },
  {
   "cell_type": "code",
   "execution_count": 4,
   "metadata": {},
   "outputs": [
    {
     "name": "stderr",
     "output_type": "stream",
     "text": [
      "/home/liangchen/Desktop/Units/ts_url/process_data.py:484: UserWarning: Creating a tensor from a list of numpy.ndarrays is extremely slow. Please consider converting the list to a single numpy.ndarray with numpy.array() before converting to a tensor. (Triggered internally at /opt/conda/conda-bld/pytorch_1670525552411/work/torch/csrc/utils/tensor_new.cpp:230.)\n",
      "  self.data = torch.tensor(data)  # this is a subclass of the BaseData class in data.py\n",
      "2024-01-30 01:14:51,118 | INFO : train_ds length: 2459, valid_ds length: 2466\n",
      "2024-01-30 01:14:51,141 | INFO : {'output_dims': 320, 'feat_dim': 6, 'max_len': 36, 'device': 'cpu'}\n",
      "2024-01-30 01:14:51,142 | INFO : CSL(\n",
      "  (shapelets_euclidean): ShapeletsDistBlocks(\n",
      "    (blocks): ModuleList(\n",
      "      (0): MinEuclideanDistBlock()\n",
      "      (1): MinEuclideanDistBlock()\n",
      "      (2): MinEuclideanDistBlock()\n",
      "      (3): MinEuclideanDistBlock()\n",
      "      (4): MinEuclideanDistBlock()\n",
      "      (5): MinEuclideanDistBlock()\n",
      "      (6): MinEuclideanDistBlock()\n",
      "      (7): MinEuclideanDistBlock()\n",
      "    )\n",
      "  )\n",
      "  (shapelets_cosine): ShapeletsDistBlocks(\n",
      "    (blocks): ModuleList(\n",
      "      (0): MaxCosineSimilarityBlock(\n",
      "        (relu): ReLU()\n",
      "      )\n",
      "      (1): MaxCosineSimilarityBlock(\n",
      "        (relu): ReLU()\n",
      "      )\n",
      "      (2): MaxCosineSimilarityBlock(\n",
      "        (relu): ReLU()\n",
      "      )\n",
      "      (3): MaxCosineSimilarityBlock(\n",
      "        (relu): ReLU()\n",
      "      )\n",
      "      (4): MaxCosineSimilarityBlock(\n",
      "        (relu): ReLU()\n",
      "      )\n",
      "      (5): MaxCosineSimilarityBlock(\n",
      "        (relu): ReLU()\n",
      "      )\n",
      "      (6): MaxCosineSimilarityBlock(\n",
      "        (relu): ReLU()\n",
      "      )\n",
      "      (7): MaxCosineSimilarityBlock(\n",
      "        (relu): ReLU()\n",
      "      )\n",
      "    )\n",
      "  )\n",
      "  (shapelets_cross_correlation): ShapeletsDistBlocks(\n",
      "    (blocks): ModuleList(\n",
      "      (0): MaxCrossCorrelationBlock(\n",
      "        (shapelets): Conv1d(6, 14, kernel_size=(3,), stride=(1,))\n",
      "      )\n",
      "      (1): MaxCrossCorrelationBlock(\n",
      "        (shapelets): Conv1d(6, 14, kernel_size=(6,), stride=(1,))\n",
      "      )\n",
      "      (2): MaxCrossCorrelationBlock(\n",
      "        (shapelets): Conv1d(6, 14, kernel_size=(10,), stride=(1,))\n",
      "      )\n",
      "      (3): MaxCrossCorrelationBlock(\n",
      "        (shapelets): Conv1d(6, 14, kernel_size=(13,), stride=(1,))\n",
      "      )\n",
      "      (4): MaxCrossCorrelationBlock(\n",
      "        (shapelets): Conv1d(6, 14, kernel_size=(17,), stride=(1,))\n",
      "      )\n",
      "      (5): MaxCrossCorrelationBlock(\n",
      "        (shapelets): Conv1d(6, 14, kernel_size=(20,), stride=(1,))\n",
      "      )\n",
      "      (6): MaxCrossCorrelationBlock(\n",
      "        (shapelets): Conv1d(6, 14, kernel_size=(24,), stride=(1,))\n",
      "      )\n",
      "      (7): MaxCrossCorrelationBlock(\n",
      "        (shapelets): Conv1d(6, 14, kernel_size=(28,), stride=(1,))\n",
      "      )\n",
      "    )\n",
      "  )\n",
      "  (linear): Linear(in_features=320, out_features=2, bias=True)\n",
      "  (projection): Sequential(\n",
      "    (0): BatchNorm1d(320, eps=1e-05, momentum=0.1, affine=True, track_running_stats=True)\n",
      "  )\n",
      "  (bn1): BatchNorm1d(104, eps=1e-05, momentum=0.1, affine=True, track_running_stats=True)\n",
      "  (bn2): BatchNorm1d(104, eps=1e-05, momentum=0.1, affine=True, track_running_stats=True)\n",
      "  (bn3): BatchNorm1d(112, eps=1e-05, momentum=0.1, affine=True, track_running_stats=True)\n",
      "  (projection2): Sequential(\n",
      "    (0): Linear(in_features=320, out_features=256, bias=True)\n",
      "    (1): ReLU()\n",
      "    (2): Linear(in_features=256, out_features=128, bias=True)\n",
      "  )\n",
      ")\n",
      "/home/liangchen/Desktop/Units/ts_url/process_data.py:507: UserWarning: To copy construct from a tensor, it is recommended to use sourceTensor.clone().detach() or sourceTensor.clone().detach().requires_grad_(True), rather than torch.tensor(sourceTensor).\n",
      "  X = torch.tensor(X).transpose(0, 1)\n"
     ]
    },
    {
     "ename": "AttributeError",
     "evalue": "'NoneType' object has no attribute 'collate'",
     "output_type": "error",
     "traceback": [
      "\u001b[0;31m---------------------------------------------------------------------------\u001b[0m",
      "\u001b[0;31mAttributeError\u001b[0m                            Traceback (most recent call last)",
      "Cell \u001b[0;32mIn[4], line 4\u001b[0m\n\u001b[1;32m      1\u001b[0m trainer \u001b[38;5;241m=\u001b[39m Trainer(data_configs, model_name, p_path, \n\u001b[1;32m      2\u001b[0m                   device, optim_config, task_name, save_path\u001b[38;5;241m=\u001b[39msave_path)\n\u001b[0;32m----> 4\u001b[0m \u001b[43mtrainer\u001b[49m\u001b[38;5;241;43m.\u001b[39;49m\u001b[43mfit\u001b[49m\u001b[43m(\u001b[49m\u001b[43m)\u001b[49m\n",
      "File \u001b[0;32m~/Desktop/Units/ts_url/training_methods.py:283\u001b[0m, in \u001b[0;36mTrainer.fit\u001b[0;34m(self)\u001b[0m\n\u001b[1;32m    281\u001b[0m \u001b[38;5;28;01mdef\u001b[39;00m \u001b[38;5;21mfit\u001b[39m(\u001b[38;5;28mself\u001b[39m):\n\u001b[1;32m    282\u001b[0m     \u001b[38;5;28;01mfor\u001b[39;00m ep \u001b[38;5;129;01min\u001b[39;00m \u001b[38;5;28mrange\u001b[39m(\u001b[38;5;28mself\u001b[39m\u001b[38;5;241m.\u001b[39moptim_config[\u001b[38;5;124m'\u001b[39m\u001b[38;5;124mepochs\u001b[39m\u001b[38;5;124m'\u001b[39m]):\n\u001b[0;32m--> 283\u001b[0m         \u001b[38;5;28;43mself\u001b[39;49m\u001b[38;5;241;43m.\u001b[39;49m\u001b[43mtrain_epoch\u001b[49m\u001b[43m(\u001b[49m\u001b[43mepoch_num\u001b[49m\u001b[38;5;241;43m=\u001b[39;49m\u001b[43mep\u001b[49m\u001b[43m)\u001b[49m\n\u001b[1;32m    284\u001b[0m         \u001b[38;5;28mself\u001b[39m\u001b[38;5;241m.\u001b[39mvalidate(epoch_num\u001b[38;5;241m=\u001b[39mep, key_metric\u001b[38;5;241m=\u001b[39m\u001b[38;5;124m\"\u001b[39m\u001b[38;5;124mloss\u001b[39m\u001b[38;5;124m\"\u001b[39m, save_dir\u001b[38;5;241m=\u001b[39m\u001b[38;5;28mself\u001b[39m\u001b[38;5;241m.\u001b[39msave_path)\n",
      "File \u001b[0;32m~/Desktop/Units/ts_url/training_methods.py:268\u001b[0m, in \u001b[0;36mTrainer.train_epoch\u001b[0;34m(self, epoch_num, **kwargs)\u001b[0m\n\u001b[1;32m    266\u001b[0m trainer_fn \u001b[38;5;241m=\u001b[39m TRAINERS\u001b[38;5;241m.\u001b[39mget(\u001b[38;5;28mself\u001b[39m\u001b[38;5;241m.\u001b[39mtask)\n\u001b[1;32m    267\u001b[0m \u001b[38;5;28;01mif\u001b[39;00m trainer_fn \u001b[38;5;129;01mis\u001b[39;00m \u001b[38;5;129;01mnot\u001b[39;00m \u001b[38;5;28;01mNone\u001b[39;00m:\n\u001b[0;32m--> 268\u001b[0m     results \u001b[38;5;241m=\u001b[39m \u001b[43mtrainer_fn\u001b[49m\u001b[43m(\u001b[49m\u001b[38;5;241;43m*\u001b[39;49m\u001b[38;5;241;43m*\u001b[39;49m\u001b[43mkwargs\u001b[49m\u001b[43m)\u001b[49m\n\u001b[1;32m    269\u001b[0m \u001b[38;5;28;01melse\u001b[39;00m:\n\u001b[1;32m    270\u001b[0m     results \u001b[38;5;241m=\u001b[39m \u001b[38;5;28;01mNone\u001b[39;00m\n",
      "File \u001b[0;32m~/Desktop/Units/ts_url/train/train.py:75\u001b[0m, in \u001b[0;36mtrain_epoch\u001b[0;34m(model, dataloader, task, device, loss_module, train_agg, optimizer, model_name, print_interval, print_callback, val_loss_module, logger, optim_config, t_loss_train, temporal_contr_optimizer, epoch_num, **kwargs)\u001b[0m\n\u001b[1;32m     62\u001b[0m train_step_config \u001b[38;5;241m=\u001b[39m {\n\u001b[1;32m     63\u001b[0m     \u001b[38;5;124m\"\u001b[39m\u001b[38;5;124mbatch\u001b[39m\u001b[38;5;124m\"\u001b[39m: batch, \n\u001b[1;32m     64\u001b[0m     \u001b[38;5;124m\"\u001b[39m\u001b[38;5;124mmodel\u001b[39m\u001b[38;5;124m\"\u001b[39m: model, \n\u001b[0;32m   (...)\u001b[0m\n\u001b[1;32m     72\u001b[0m     \u001b[38;5;124m\"\u001b[39m\u001b[38;5;124moptim_config\u001b[39m\u001b[38;5;124m\"\u001b[39m: optim_config\n\u001b[1;32m     73\u001b[0m }\n\u001b[1;32m     74\u001b[0m train_step_config\u001b[38;5;241m.\u001b[39mupdate(kwargs_init)\n\u001b[0;32m---> 75\u001b[0m loss \u001b[38;5;241m=\u001b[39m \u001b[43mTRAIN_STEP\u001b[49m\u001b[38;5;241;43m.\u001b[39;49m\u001b[43mget\u001b[49m\u001b[43m(\u001b[49m\u001b[43mtask\u001b[49m\u001b[43m)\u001b[49m\u001b[43m(\u001b[49m\u001b[38;5;241;43m*\u001b[39;49m\u001b[38;5;241;43m*\u001b[39;49m\u001b[43mtrain_step_config\u001b[49m\u001b[43m)\u001b[49m\n\u001b[1;32m     77\u001b[0m \u001b[38;5;28;01mif\u001b[39;00m \u001b[38;5;28mlen\u001b[39m(loss\u001b[38;5;241m.\u001b[39mshape):\n\u001b[1;32m     78\u001b[0m     loss \u001b[38;5;241m=\u001b[39m loss\u001b[38;5;241m.\u001b[39mreshape(loss\u001b[38;5;241m.\u001b[39mshape[\u001b[38;5;241m0\u001b[39m], \u001b[38;5;241m-\u001b[39m\u001b[38;5;241m1\u001b[39m)\n",
      "File \u001b[0;32m~/Desktop/Units/ts_url/train/train.py:239\u001b[0m, in \u001b[0;36mstep_pretraining\u001b[0;34m(model_name, **kwargs)\u001b[0m\n\u001b[1;32m    237\u001b[0m \u001b[38;5;129m@TRAIN_STEP\u001b[39m\u001b[38;5;241m.\u001b[39mregister(\u001b[38;5;124m\"\u001b[39m\u001b[38;5;124mpretraining\u001b[39m\u001b[38;5;124m\"\u001b[39m)\n\u001b[1;32m    238\u001b[0m \u001b[38;5;28;01mdef\u001b[39;00m \u001b[38;5;21mstep_pretraining\u001b[39m(model_name, \u001b[38;5;241m*\u001b[39m\u001b[38;5;241m*\u001b[39mkwargs):\n\u001b[0;32m--> 239\u001b[0m     \u001b[38;5;28;01mreturn\u001b[39;00m \u001b[43mPRETRAIN_STEP\u001b[49m\u001b[38;5;241;43m.\u001b[39;49m\u001b[43mget\u001b[49m\u001b[43m(\u001b[49m\u001b[43mmodel_name\u001b[49m\u001b[43m)\u001b[49m\u001b[43m(\u001b[49m\u001b[38;5;241;43m*\u001b[39;49m\u001b[38;5;241;43m*\u001b[39;49m\u001b[43mkwargs\u001b[49m\u001b[43m)\u001b[49m\n",
      "File \u001b[0;32m~/Desktop/Units/ts_url/train/train.py:289\u001b[0m, in \u001b[0;36mstep_csl\u001b[0;34m(batch, model, device, loss_module, optimizer, optim_config, train_agg, C_accu_q, c_normalising_factor_q, C_accu_k, c_normalising_factor_k, **kwargs)\u001b[0m\n\u001b[1;32m    287\u001b[0m X, x_k, x_q, mask, label, IDs \u001b[38;5;241m=\u001b[39m batch\n\u001b[1;32m    288\u001b[0m X, x_k, x_q \u001b[38;5;241m=\u001b[39m X\u001b[38;5;241m.\u001b[39mto(device), x_k\u001b[38;5;241m.\u001b[39mto(device), x_q\u001b[38;5;241m.\u001b[39mto(device)\n\u001b[0;32m--> 289\u001b[0m \u001b[43mtrain_agg\u001b[49m\u001b[38;5;241;43m.\u001b[39;49m\u001b[43mappend_train\u001b[49m\u001b[43m(\u001b[49m\u001b[43mmodel\u001b[49m\u001b[43m,\u001b[49m\u001b[43m \u001b[49m\u001b[43mX\u001b[49m\u001b[38;5;241;43m=\u001b[39;49m\u001b[43mX\u001b[49m\u001b[43m,\u001b[49m\u001b[43m \u001b[49m\u001b[43mlabel\u001b[49m\u001b[38;5;241;43m=\u001b[39;49m\u001b[43mlabel\u001b[49m\u001b[43m,\u001b[49m\u001b[43m \u001b[49m\u001b[43mmask\u001b[49m\u001b[38;5;241;43m=\u001b[39;49m\u001b[43mmask\u001b[49m\u001b[43m)\u001b[49m\n\u001b[1;32m    290\u001b[0m num_shapelet_lengths \u001b[38;5;241m=\u001b[39m \u001b[38;5;28mlen\u001b[39m(model\u001b[38;5;241m.\u001b[39mshapelets_size_and_len)\n\u001b[1;32m    291\u001b[0m num_shapelet_per_length \u001b[38;5;241m=\u001b[39m model\u001b[38;5;241m.\u001b[39mnum_shapelets \u001b[38;5;241m/\u001b[39m\u001b[38;5;241m/\u001b[39m num_shapelet_lengths\n",
      "File \u001b[0;32m~/Desktop/Units/ts_url/train/train.py:131\u001b[0m, in \u001b[0;36mPretrainAgg.append_train\u001b[0;34m(self, model, **kwargs)\u001b[0m\n\u001b[1;32m    130\u001b[0m \u001b[38;5;28;01mdef\u001b[39;00m \u001b[38;5;21mappend_train\u001b[39m(\u001b[38;5;28mself\u001b[39m, model, \u001b[38;5;241m*\u001b[39m\u001b[38;5;241m*\u001b[39mkwargs):\n\u001b[0;32m--> 131\u001b[0m     kwargs\u001b[38;5;241m.\u001b[39mupdate(\u001b[38;5;28;43mself\u001b[39;49m\u001b[38;5;241;43m.\u001b[39;49m\u001b[43mtest_module\u001b[49m\u001b[38;5;241;43m.\u001b[39;49m\u001b[43mcollate\u001b[49m(model, \u001b[38;5;241m*\u001b[39m\u001b[38;5;241m*\u001b[39mkwargs))\n\u001b[1;32m    132\u001b[0m     \u001b[38;5;28;01mfor\u001b[39;00m k \u001b[38;5;129;01min\u001b[39;00m kwargs:\n\u001b[1;32m    133\u001b[0m         \u001b[38;5;28;01mif\u001b[39;00m kwargs[k][\u001b[38;5;241m0\u001b[39m] \u001b[38;5;129;01mis\u001b[39;00m \u001b[38;5;28;01mNone\u001b[39;00m:\n",
      "\u001b[0;31mAttributeError\u001b[0m: 'NoneType' object has no attribute 'collate'"
     ]
    }
   ],
   "source": [
    "trainer = Trainer(data_configs, model_name, p_path, \n",
    "                  device, optim_config, task_name, save_path=save_path)\n",
    "\n",
    "trainer.fit()\n"
   ]
  },
  {
   "cell_type": "code",
   "execution_count": null,
   "metadata": {},
   "outputs": [],
   "source": []
  }
 ],
 "metadata": {
  "kernelspec": {
   "display_name": "UniTS",
   "language": "python",
   "name": "python3"
  },
  "language_info": {
   "codemirror_mode": {
    "name": "ipython",
    "version": 3
   },
   "file_extension": ".py",
   "mimetype": "text/x-python",
   "name": "python",
   "nbconvert_exporter": "python",
   "pygments_lexer": "ipython3",
   "version": "3.8.16"
  }
 },
 "nbformat": 4,
 "nbformat_minor": 2
}
