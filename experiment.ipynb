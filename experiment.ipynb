{
 "cells": [
  {
   "cell_type": "code",
   "execution_count": null,
   "metadata": {},
   "outputs": [],
   "source": [
    "import torch\n",
    "from ts_url.training_methods import Trainer\n",
    "import time\n",
    "import os "
   ]
  },
  {
   "cell_type": "markdown",
   "metadata": {},
   "source": [
    "Try csl on LSST dataset with SVM as the test module."
   ]
  },
  {
   "cell_type": "code",
   "execution_count": null,
   "metadata": {},
   "outputs": [],
   "source": [
    "\n",
    "experiment = \"exp1\"\n",
    "\n",
    "hp_path = \"configs/csl_optim.json\"\n",
    "p_path = \"configs/csl.json\"\n",
    "optim_config = \"configs/csl_optim.json\"\n",
    "task_name = \"pretraining\"\n",
    "model_name = \"csl\"\n",
    "\n",
    "device = torch.device('cuda')\n",
    "\n",
    "\n",
    "def get_config(filepath=\"\", train_ratio=1, test_ratio=1, dsid=\"LSST\"):\n",
    "    data_configs = [{\n",
    "        \"filepath\": filepath,\n",
    "        \"train_ratio\": train_ratio,\n",
    "        \"test_ratio\": test_ratio,\n",
    "        \"dsid\": dsid\n",
    "    }]\n",
    "    return data_configs\n",
    "\n",
    "data_configs = get_config()\n",
    "\n",
    "data_names = [d['dsid'] for d in data_configs]\n",
    "task_summary = \"_\".join(data_names) + \"_\" + model_name\n",
    "start_time = time.strftime(\"%m_%d_%H_%M_%S\", time.localtime()) \n",
    "save_path = os.path.join(experiment, task_summary, start_time)\n",
    "\n",
    "os.makedirs(save_path, exist_ok=True)\n",
    "\n"
   ]
  },
  {
   "cell_type": "markdown",
   "metadata": {},
   "source": [
    "Try ts_tcc on LSST dataset with SVM as test module."
   ]
  },
  {
   "cell_type": "code",
   "execution_count": null,
   "metadata": {},
   "outputs": [],
   "source": [
    "experiment = \"exp1\"\n",
    "\n",
    "# hp_path = \"configs/ts_tcc_optim.json\"\n",
    "p_path = \"configs/ts_tcc.json\"\n",
    "optim_config = \"configs/ts_tcc_optim.json\"\n",
    "task_name = \"pretraining\"\n",
    "model_name = \"ts_tcc\"\n",
    "\n",
    "device = torch.device('cuda')\n",
    "\n",
    "data_names = [d['dsid'] for d in data_configs]\n",
    "task_summary = \"_\".join(data_names) + \"_\" + model_name\n",
    "start_time = time.strftime(\"%m_%d_%H_%M_%S\", time.localtime()) \n",
    "save_path = os.path.join(experiment, task_summary, start_time)\n",
    "\n",
    "os.makedirs(save_path, exist_ok=True)"
   ]
  },
  {
   "cell_type": "markdown",
   "metadata": {},
   "source": [
    "Try t_loss on LSST dataset with SVM as test module."
   ]
  },
  {
   "cell_type": "code",
   "execution_count": null,
   "metadata": {},
   "outputs": [],
   "source": [
    "experiment = \"exp1\"\n",
    "\n",
    "# hp_path = \"configs/ts_tcc_optim.json\"\n",
    "p_path = \"configs/t_loss.json\"\n",
    "optim_config = \"configs/t_loss_optim.json\"\n",
    "task_name = \"pretraining\"\n",
    "model_name = \"t_loss\"\n",
    "\n",
    "device = torch.device('cuda')\n",
    "\n",
    "data_names = [d['dsid'] for d in data_configs]\n",
    "task_summary = \"_\".join(data_names) + \"_\" + model_name\n",
    "start_time = time.strftime(\"%m_%d_%H_%M_%S\", time.localtime()) \n",
    "save_path = os.path.join(experiment, task_summary, start_time)\n",
    "\n",
    "os.makedirs(save_path, exist_ok=True)"
   ]
  },
  {
   "cell_type": "code",
   "execution_count": null,
   "metadata": {},
   "outputs": [],
   "source": [
    "torch.manual_seed(0)\n",
    "trainer = Trainer(data_configs, model_name, p_path, \n",
    "                  device, optim_config, task_name, save_path=save_path)\n",
    "\n",
    "trainer._test()\n"
   ]
  },
  {
   "cell_type": "code",
   "execution_count": null,
   "metadata": {},
   "outputs": [],
   "source": []
  }
 ],
 "metadata": {
  "kernelspec": {
   "display_name": "UniTS",
   "language": "python",
   "name": "python3"
  },
  "language_info": {
   "codemirror_mode": {
    "name": "ipython",
    "version": 3
   },
   "file_extension": ".py",
   "mimetype": "text/x-python",
   "name": "python",
   "nbconvert_exporter": "python",
   "pygments_lexer": "ipython3",
   "version": "3.8.18"
  }
 },
 "nbformat": 4,
 "nbformat_minor": 2
}
