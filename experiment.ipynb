{
 "cells": [
  {
   "cell_type": "code",
   "execution_count": 1,
   "metadata": {},
   "outputs": [
    {
     "name": "stderr",
     "output_type": "stream",
     "text": [
      "c:\\Users\\LC\\miniconda3\\envs\\UniTS_cuda\\lib\\site-packages\\tqdm\\auto.py:21: TqdmWarning: IProgress not found. Please update jupyter and ipywidgets. See https://ipywidgets.readthedocs.io/en/stable/user_install.html\n",
      "  from .autonotebook import tqdm as notebook_tqdm\n",
      "c:\\Users\\LC\\miniconda3\\envs\\UniTS_cuda\\lib\\site-packages\\tslearn\\bases\\bases.py:15: UserWarning: h5py not installed, hdf5 features will not be supported.\n",
      "Install h5py to use hdf5 features: http://docs.h5py.org/\n",
      "  warn(h5py_msg)\n"
     ]
    }
   ],
   "source": [
    "import torch\n",
    "from ts_url.training_methods import Trainer\n",
    "import time\n",
    "import os "
   ]
  },
  {
   "cell_type": "markdown",
   "metadata": {},
   "source": [
    "Try csl on LSST dataset with SVM as the test module."
   ]
  },
  {
   "cell_type": "code",
   "execution_count": 2,
   "metadata": {},
   "outputs": [],
   "source": [
    "\n",
    "experiment = \"exp1\"\n",
    "\n",
    "hp_path = \"configs/csl_optim.json\"\n",
    "p_path = \"configs/csl.json\"\n",
    "optim_config = \"configs/csl_optim.json\"\n",
    "task_name = \"pretraining\"\n",
    "model_name = \"csl\"\n",
    "\n",
    "device = torch.device('cuda')\n",
    "\n",
    "\n",
    "def get_config(filepath=\"\", train_ratio=1, test_ratio=1, dsid=\"LSST\"):\n",
    "    data_configs = [{\n",
    "        \"filepath\": filepath,\n",
    "        \"train_ratio\": train_ratio,\n",
    "        \"test_ratio\": test_ratio,\n",
    "        \"dsid\": dsid\n",
    "    }]\n",
    "    return data_configs\n",
    "\n",
    "data_configs = get_config()\n",
    "\n",
    "data_names = [d['dsid'] for d in data_configs]\n",
    "task_summary = \"_\".join(data_names) + \"_\" + model_name\n",
    "start_time = time.strftime(\"%m_%d_%H_%M_%S\", time.localtime()) \n",
    "save_path = os.path.join(experiment, task_summary, start_time)\n",
    "\n",
    "os.makedirs(save_path, exist_ok=True)\n",
    "\n"
   ]
  },
  {
   "cell_type": "markdown",
   "metadata": {},
   "source": [
    "Try ts_tcc on LSST dataset with SVM as test module."
   ]
  },
  {
   "cell_type": "code",
   "execution_count": 3,
   "metadata": {},
   "outputs": [],
   "source": [
    "experiment = \"exp1\"\n",
    "\n",
    "# hp_path = \"configs/ts_tcc_optim.json\"\n",
    "p_path = \"configs/ts_tcc.json\"\n",
    "optim_config = \"configs/ts_tcc_optim.json\"\n",
    "task_name = \"pretraining\"\n",
    "model_name = \"ts_tcc\"\n",
    "\n",
    "device = torch.device('cuda')\n",
    "\n",
    "data_names = [d['dsid'] for d in data_configs]\n",
    "task_summary = \"_\".join(data_names) + \"_\" + model_name\n",
    "start_time = time.strftime(\"%m_%d_%H_%M_%S\", time.localtime()) \n",
    "save_path = os.path.join(experiment, task_summary, start_time)\n",
    "\n",
    "os.makedirs(save_path, exist_ok=True)"
   ]
  },
  {
   "cell_type": "markdown",
   "metadata": {},
   "source": [
    "Try t_loss on LSST dataset with SVM as test module."
   ]
  },
  {
   "cell_type": "code",
   "execution_count": 1,
   "metadata": {},
   "outputs": [
    {
     "ename": "NameError",
     "evalue": "name 'torch' is not defined",
     "output_type": "error",
     "traceback": [
      "\u001b[1;31m---------------------------------------------------------------------------\u001b[0m",
      "\u001b[1;31mNameError\u001b[0m                                 Traceback (most recent call last)",
      "Cell \u001b[1;32mIn[1], line 9\u001b[0m\n\u001b[0;32m      6\u001b[0m task_name \u001b[38;5;241m=\u001b[39m \u001b[38;5;124m\"\u001b[39m\u001b[38;5;124mpretraining\u001b[39m\u001b[38;5;124m\"\u001b[39m\n\u001b[0;32m      7\u001b[0m model_name \u001b[38;5;241m=\u001b[39m \u001b[38;5;124m\"\u001b[39m\u001b[38;5;124mt_loss\u001b[39m\u001b[38;5;124m\"\u001b[39m\n\u001b[1;32m----> 9\u001b[0m device \u001b[38;5;241m=\u001b[39m \u001b[43mtorch\u001b[49m\u001b[38;5;241m.\u001b[39mdevice(\u001b[38;5;124m'\u001b[39m\u001b[38;5;124mcuda\u001b[39m\u001b[38;5;124m'\u001b[39m)\n\u001b[0;32m     11\u001b[0m data_names \u001b[38;5;241m=\u001b[39m [d[\u001b[38;5;124m'\u001b[39m\u001b[38;5;124mdsid\u001b[39m\u001b[38;5;124m'\u001b[39m] \u001b[38;5;28;01mfor\u001b[39;00m d \u001b[38;5;129;01min\u001b[39;00m data_configs]\n\u001b[0;32m     12\u001b[0m task_summary \u001b[38;5;241m=\u001b[39m \u001b[38;5;124m\"\u001b[39m\u001b[38;5;124m_\u001b[39m\u001b[38;5;124m\"\u001b[39m\u001b[38;5;241m.\u001b[39mjoin(data_names) \u001b[38;5;241m+\u001b[39m \u001b[38;5;124m\"\u001b[39m\u001b[38;5;124m_\u001b[39m\u001b[38;5;124m\"\u001b[39m \u001b[38;5;241m+\u001b[39m model_name\n",
      "\u001b[1;31mNameError\u001b[0m: name 'torch' is not defined"
     ]
    }
   ],
   "source": [
    "experiment = \"exp1\"\n",
    "\n",
    "# hp_path = \"configs/ts_tcc_optim.json\"\n",
    "p_path = \"configs/t_loss.json\"\n",
    "optim_config = \"configs/t_loss_optim.json\"\n",
    "task_name = \"pretraining\"\n",
    "model_name = \"t_loss\"\n",
    "\n",
    "device = torch.device('cuda')\n",
    "\n",
    "data_names = [d['dsid'] for d in data_configs]\n",
    "task_summary = \"_\".join(data_names) + \"_\" + model_name\n",
    "start_time = time.strftime(\"%m_%d_%H_%M_%S\", time.localtime()) \n",
    "save_path = os.path.join(experiment, task_summary, start_time)\n",
    "\n",
    "os.makedirs(save_path, exist_ok=True)"
   ]
  },
  {
   "cell_type": "code",
   "execution_count": 3,
   "metadata": {},
   "outputs": [
    {
     "name": "stderr",
     "output_type": "stream",
     "text": [
      "d:\\units_1\\UniTS\\ts_url\\process_data.py:489: UserWarning: Creating a tensor from a list of numpy.ndarrays is extremely slow. Please consider converting the list to a single numpy.ndarray with numpy.array() before converting to a tensor. (Triggered internally at C:\\cb\\pytorch_1000000000000\\work\\torch\\csrc\\utils\\tensor_new.cpp:233.)\n",
      "  self.data = torch.tensor(data)  # this is a subclass of the BaseData class in data.py\n",
      "2024-02-05 15:51:16,148 | INFO : train_ds length: 2459, valid_ds length: 2466\n",
      "2024-02-05 15:51:16,154 | INFO : {'output_dims': 320, 'feat_dim': 6, 'max_len': 36, 'device': 'cpu'}\n",
      "2024-02-05 15:51:16,156 | INFO : CSL(\n",
      "  (shapelets_euclidean): ShapeletsDistBlocks(\n",
      "    (blocks): ModuleList(\n",
      "      (0): MinEuclideanDistBlock()\n",
      "      (1): MinEuclideanDistBlock()\n",
      "      (2): MinEuclideanDistBlock()\n",
      "      (3): MinEuclideanDistBlock()\n",
      "      (4): MinEuclideanDistBlock()\n",
      "      (5): MinEuclideanDistBlock()\n",
      "      (6): MinEuclideanDistBlock()\n",
      "      (7): MinEuclideanDistBlock()\n",
      "    )\n",
      "  )\n",
      "  (shapelets_cosine): ShapeletsDistBlocks(\n",
      "    (blocks): ModuleList(\n",
      "      (0): MaxCosineSimilarityBlock(\n",
      "        (relu): ReLU()\n",
      "      )\n",
      "      (1): MaxCosineSimilarityBlock(\n",
      "        (relu): ReLU()\n",
      "      )\n",
      "      (2): MaxCosineSimilarityBlock(\n",
      "        (relu): ReLU()\n",
      "      )\n",
      "      (3): MaxCosineSimilarityBlock(\n",
      "        (relu): ReLU()\n",
      "      )\n",
      "      (4): MaxCosineSimilarityBlock(\n",
      "        (relu): ReLU()\n",
      "      )\n",
      "      (5): MaxCosineSimilarityBlock(\n",
      "        (relu): ReLU()\n",
      "      )\n",
      "      (6): MaxCosineSimilarityBlock(\n",
      "        (relu): ReLU()\n",
      "      )\n",
      "      (7): MaxCosineSimilarityBlock(\n",
      "        (relu): ReLU()\n",
      "      )\n",
      "    )\n",
      "  )\n",
      "  (shapelets_cross_correlation): ShapeletsDistBlocks(\n",
      "    (blocks): ModuleList(\n",
      "      (0): MaxCrossCorrelationBlock(\n",
      "        (shapelets): Conv1d(6, 14, kernel_size=(3,), stride=(1,))\n",
      "      )\n",
      "      (1): MaxCrossCorrelationBlock(\n",
      "        (shapelets): Conv1d(6, 14, kernel_size=(6,), stride=(1,))\n",
      "      )\n",
      "      (2): MaxCrossCorrelationBlock(\n",
      "        (shapelets): Conv1d(6, 14, kernel_size=(10,), stride=(1,))\n",
      "      )\n",
      "      (3): MaxCrossCorrelationBlock(\n",
      "        (shapelets): Conv1d(6, 14, kernel_size=(13,), stride=(1,))\n",
      "      )\n",
      "      (4): MaxCrossCorrelationBlock(\n",
      "        (shapelets): Conv1d(6, 14, kernel_size=(17,), stride=(1,))\n",
      "      )\n",
      "      (5): MaxCrossCorrelationBlock(\n",
      "        (shapelets): Conv1d(6, 14, kernel_size=(20,), stride=(1,))\n",
      "      )\n",
      "      (6): MaxCrossCorrelationBlock(\n",
      "        (shapelets): Conv1d(6, 14, kernel_size=(24,), stride=(1,))\n",
      "      )\n",
      "      (7): MaxCrossCorrelationBlock(\n",
      "        (shapelets): Conv1d(6, 14, kernel_size=(28,), stride=(1,))\n",
      "      )\n",
      "    )\n",
      "  )\n",
      "  (linear): Linear(in_features=320, out_features=2, bias=True)\n",
      "  (projection): Sequential(\n",
      "    (0): BatchNorm1d(320, eps=1e-05, momentum=0.1, affine=True, track_running_stats=True)\n",
      "  )\n",
      "  (bn1): BatchNorm1d(104, eps=1e-05, momentum=0.1, affine=True, track_running_stats=True)\n",
      "  (bn2): BatchNorm1d(104, eps=1e-05, momentum=0.1, affine=True, track_running_stats=True)\n",
      "  (bn3): BatchNorm1d(112, eps=1e-05, momentum=0.1, affine=True, track_running_stats=True)\n",
      "  (projection2): Sequential(\n",
      "    (0): Linear(in_features=320, out_features=256, bias=True)\n",
      "    (1): ReLU()\n",
      "    (2): Linear(in_features=256, out_features=128, bias=True)\n",
      "  )\n",
      ")\n",
      "d:\\units_1\\UniTS\\ts_url\\process_data.py:516: UserWarning: To copy construct from a tensor, it is recommended to use sourceTensor.clone().detach() or sourceTensor.clone().detach().requires_grad_(True), rather than torch.tensor(sourceTensor).\n",
      "  X = torch.tensor(X).transpose(0, 1)\n"
     ]
    },
    {
     "name": "stdout",
     "output_type": "stream",
     "text": [
      "\u001b[KTraining Epoch 0  68.2% | batch:       210 of       308\t|\tloss: 1.279544"
     ]
    }
   ],
   "source": [
    "torch.manual_seed(0)\n",
    "trainer = Trainer(data_configs, model_name, p_path, \n",
    "                  device, optim_config, task_name, save_path=save_path)\n",
    "\n",
    "trainer.fit()\n"
   ]
  },
  {
   "cell_type": "code",
   "execution_count": null,
   "metadata": {},
   "outputs": [],
   "source": []
  }
 ],
 "metadata": {
  "kernelspec": {
   "display_name": "UniTS",
   "language": "python",
   "name": "python3"
  },
  "language_info": {
   "codemirror_mode": {
    "name": "ipython",
    "version": 3
   },
   "file_extension": ".py",
   "mimetype": "text/x-python",
   "name": "python",
   "nbconvert_exporter": "python",
   "pygments_lexer": "ipython3",
   "version": "3.8.18"
  }
 },
 "nbformat": 4,
 "nbformat_minor": 2
}
